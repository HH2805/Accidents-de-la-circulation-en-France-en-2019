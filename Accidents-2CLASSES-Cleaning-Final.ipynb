{
 "cells": [
  {
   "cell_type": "markdown",
   "metadata": {},
   "source": [
    "## Final Project - Road Accidents in France in 2019"
   ]
  },
  {
   "cell_type": "code",
   "execution_count": 1,
   "metadata": {},
   "outputs": [],
   "source": [
    "import os\n",
    "import pandas as pd\n",
    "import pydantic_settings\n",
    "from pydantic_settings import BaseSettings\n",
    "import numpy as np\n",
    "import matplotlib.pyplot as plt\n",
    "%matplotlib inline \n",
    "import seaborn as sns\n",
    "\n",
    "import math\n",
    "import warnings\n",
    "import scipy.stats as ss\n",
    "import scipy.cluster.hierarchy as sch\n",
    "from collections import Counter"
   ]
  },
  {
   "cell_type": "code",
   "execution_count": 2,
   "metadata": {},
   "outputs": [
    {
     "data": {
      "text/plain": [
       "'C:\\\\Users\\\\mailb\\\\Documents_Administrateur\\\\Ironhack\\\\DA_BOOTCAMP\\\\3.Labs\\\\dataV2-labs\\\\module-3\\\\Final-Project'"
      ]
     },
     "execution_count": 2,
     "metadata": {},
     "output_type": "execute_result"
    }
   ],
   "source": [
    "os.getcwd()"
   ]
  },
  {
   "cell_type": "markdown",
   "metadata": {},
   "source": [
    "### Import des fichiers de données"
   ]
  },
  {
   "cell_type": "code",
   "execution_count": 3,
   "metadata": {},
   "outputs": [],
   "source": [
    "carac = pd.read_csv(\"./data/caracteristiques-2019.csv\", sep=\";\") # nous donne des caractéristiques sur les accidents\n",
    "lieux = pd.read_csv(\"./data/lieux-2019.csv\", sep=\";\") # recense des données sur les lieux des accidents\n",
    "veh = pd.read_csv(\"./data/vehicules-2019.csv\", sep=\";\") # donne des informations sur les véhicules impliqués\n",
    "usagers = pd.read_csv(\"./data/usagers-2019.csv\", sep=\";\") # donne des informations sur les victimes"
   ]
  },
  {
   "cell_type": "code",
   "execution_count": 4,
   "metadata": {},
   "outputs": [
    {
     "name": "stdout",
     "output_type": "stream",
     "text": [
      "{'Num_Acc'}\n"
     ]
    }
   ],
   "source": [
    "print(set(carac.columns)\n",
    "    .intersection(set(lieux.columns))\n",
    "    .intersection(set(veh.columns))\n",
    "    .intersection(set(usagers.columns)))"
   ]
  },
  {
   "cell_type": "code",
   "execution_count": 5,
   "metadata": {},
   "outputs": [
    {
     "name": "stdout",
     "output_type": "stream",
     "text": [
      "58840\n"
     ]
    }
   ],
   "source": [
    "print(carac['Num_Acc'].nunique())"
   ]
  },
  {
   "cell_type": "code",
   "execution_count": 6,
   "metadata": {},
   "outputs": [
    {
     "name": "stdout",
     "output_type": "stream",
     "text": [
      "True\n",
      "True\n"
     ]
    },
    {
     "data": {
      "text/plain": [
       "True"
      ]
     },
     "execution_count": 6,
     "metadata": {},
     "output_type": "execute_result"
    }
   ],
   "source": [
    "print(sorted(carac['Num_Acc'].unique()) == sorted(lieux['Num_Acc'].unique()))\n",
    "print(sorted(carac['Num_Acc'].unique()) == sorted(veh['Num_Acc'].unique()))\n",
    "sorted(carac['Num_Acc'].unique()) == sorted(veh['Num_Acc'].unique())"
   ]
  },
  {
   "cell_type": "markdown",
   "metadata": {},
   "source": [
    "**Observations**\n",
    "\n",
    "Les 4 fichiers ont en commun une colonne 'NumAcc' (= identifiant unique d'accident) comprenant 58140 valeurs identiques. Chaque fichier concerne donc les mêmes 58140 accidents."
   ]
  },
  {
   "cell_type": "code",
   "execution_count": 7,
   "metadata": {},
   "outputs": [
    {
     "name": "stdout",
     "output_type": "stream",
     "text": [
      "{'Num_Acc'}\n",
      "{'Num_Acc', 'num_veh', 'id_vehicule'}\n"
     ]
    }
   ],
   "source": [
    "print(set(veh.columns).intersection(set(lieux.columns).intersection(set(carac.columns).intersection(set(usagers.columns)))))\n",
    "print(set(veh.columns).intersection(set(usagers.columns)))"
   ]
  },
  {
   "cell_type": "markdown",
   "metadata": {},
   "source": [
    "**Observations**\n",
    "\n",
    "Les 4 fichiers ont en commun la colonne 'NumAcc' (numéro d'accident).\n",
    "\n",
    "Les fichiers 'vehicules' et 'usagers' ont en commun 2 colonnes supplémentaires : 'num_veh' (identifiant de véhicule) et 'id_vehicule' (identifiant unique du véhicule). "
   ]
  },
  {
   "cell_type": "code",
   "execution_count": 8,
   "metadata": {},
   "outputs": [],
   "source": [
    "def fileinfo(df):\n",
    "    print('Shape:', df.shape)\n",
    "    print(f'Max row count by accident ID = {max(df.Num_Acc.value_counts().values)}')"
   ]
  },
  {
   "cell_type": "code",
   "execution_count": 9,
   "metadata": {},
   "outputs": [
    {
     "name": "stdout",
     "output_type": "stream",
     "text": [
      "Shape: (58840, 15)\n",
      "Max row count by accident ID = 1\n"
     ]
    }
   ],
   "source": [
    "fileinfo(carac)"
   ]
  },
  {
   "cell_type": "code",
   "execution_count": 10,
   "metadata": {},
   "outputs": [
    {
     "name": "stdout",
     "output_type": "stream",
     "text": [
      "Shape: (58840, 18)\n",
      "Max row count by accident ID = 1\n"
     ]
    }
   ],
   "source": [
    "fileinfo(lieux)"
   ]
  },
  {
   "cell_type": "code",
   "execution_count": 11,
   "metadata": {},
   "outputs": [
    {
     "name": "stdout",
     "output_type": "stream",
     "text": [
      "Shape: (100710, 11)\n",
      "Max row count by accident ID = 12\n"
     ]
    }
   ],
   "source": [
    "fileinfo(veh)"
   ]
  },
  {
   "cell_type": "code",
   "execution_count": 12,
   "metadata": {},
   "outputs": [
    {
     "name": "stdout",
     "output_type": "stream",
     "text": [
      "Shape: (132977, 15)\n",
      "Max row count by accident ID = 33\n"
     ]
    }
   ],
   "source": [
    "fileinfo(usagers)"
   ]
  },
  {
   "cell_type": "markdown",
   "metadata": {},
   "source": [
    "**Observations**\n",
    "\n",
    "Ces accidents sont survenus chacun en un lieu unique (d'où 58140 lieux), ont impliqué de 1 à 12 véhicule(s), et ont fait entre 1 et 33 victime(s).\n",
    "\n",
    "Sous réserve d'éventuelles lignes en double dans chaque fichier."
   ]
  },
  {
   "cell_type": "code",
   "execution_count": 13,
   "metadata": {},
   "outputs": [
    {
     "name": "stdout",
     "output_type": "stream",
     "text": [
      "{'Num_Acc', 'num_veh', 'id_vehicule'}\n"
     ]
    }
   ],
   "source": [
    "print(\n",
    "    set(veh.columns).intersection(set(usagers.columns))\n",
    ")"
   ]
  },
  {
   "cell_type": "markdown",
   "metadata": {},
   "source": [
    "### Fusion des fichiers"
   ]
  },
  {
   "cell_type": "markdown",
   "metadata": {},
   "source": [
    "Notre étude porte sur la gravité des accidents pour les victimes ==> nous fusionnons le fichier 'usagers' avec les 3 autres en effectuant une jointure gauche (i.e. toutes les lignes du fichier 'usagers', aucune des éventuelles lignes supplémentaires des autres fichiers)."
   ]
  },
  {
   "cell_type": "code",
   "execution_count": 14,
   "metadata": {},
   "outputs": [],
   "source": [
    "victime = usagers.merge(veh, how='left').merge(carac, how='left').merge(lieux, how='left')"
   ]
  },
  {
   "cell_type": "markdown",
   "metadata": {},
   "source": [
    "### Premières observations sur le fichier"
   ]
  },
  {
   "cell_type": "code",
   "execution_count": 15,
   "metadata": {},
   "outputs": [
    {
     "name": "stdout",
     "output_type": "stream",
     "text": [
      "<class 'pandas.core.frame.DataFrame'>\n",
      "Int64Index: 132977 entries, 0 to 132976\n",
      "Data columns (total 54 columns):\n",
      " #   Column       Non-Null Count   Dtype  \n",
      "---  ------       --------------   -----  \n",
      " 0   Num_Acc      132977 non-null  int64  \n",
      " 1   id_vehicule  132977 non-null  object \n",
      " 2   num_veh      132977 non-null  object \n",
      " 3   place        132977 non-null  int64  \n",
      " 4   catu         132977 non-null  int64  \n",
      " 5   grav         132977 non-null  int64  \n",
      " 6   sexe         132977 non-null  int64  \n",
      " 7   an_nais      132977 non-null  int64  \n",
      " 8   trajet       132977 non-null  int64  \n",
      " 9   secu1        132977 non-null  int64  \n",
      " 10  secu2        132977 non-null  int64  \n",
      " 11  secu3        132977 non-null  int64  \n",
      " 12  locp         132977 non-null  int64  \n",
      " 13  actp         132977 non-null  object \n",
      " 14  etatp        132977 non-null  int64  \n",
      " 15  senc         132977 non-null  int64  \n",
      " 16  catv         132977 non-null  int64  \n",
      " 17  obs          132977 non-null  int64  \n",
      " 18  obsm         132977 non-null  int64  \n",
      " 19  choc         132977 non-null  int64  \n",
      " 20  manv         132977 non-null  int64  \n",
      " 21  motor        132977 non-null  int64  \n",
      " 22  occutc       1878 non-null    float64\n",
      " 23  jour         132977 non-null  int64  \n",
      " 24  mois         132977 non-null  int64  \n",
      " 25  an           132977 non-null  int64  \n",
      " 26  hrmn         132977 non-null  object \n",
      " 27  lum          132977 non-null  int64  \n",
      " 28  dep          132977 non-null  object \n",
      " 29  com          132977 non-null  object \n",
      " 30  agg          132977 non-null  int64  \n",
      " 31  int          132977 non-null  int64  \n",
      " 32  atm          132977 non-null  int64  \n",
      " 33  col          132977 non-null  int64  \n",
      " 34  adr          131956 non-null  object \n",
      " 35  lat          132977 non-null  object \n",
      " 36  long         132977 non-null  object \n",
      " 37  catr         132977 non-null  int64  \n",
      " 38  voie         127063 non-null  object \n",
      " 39  v1           108381 non-null  float64\n",
      " 40  v2           9742 non-null    object \n",
      " 41  circ         132977 non-null  int64  \n",
      " 42  nbv          132977 non-null  int64  \n",
      " 43  vosp         132977 non-null  int64  \n",
      " 44  prof         132977 non-null  int64  \n",
      " 45  pr           132977 non-null  object \n",
      " 46  pr1          132977 non-null  object \n",
      " 47  plan         132977 non-null  int64  \n",
      " 48  lartpc       467 non-null     float64\n",
      " 49  larrout      831 non-null     float64\n",
      " 50  surf         132977 non-null  int64  \n",
      " 51  infra        132977 non-null  int64  \n",
      " 52  situ         132977 non-null  int64  \n",
      " 53  vma          132977 non-null  int64  \n",
      "dtypes: float64(4), int64(37), object(13)\n",
      "memory usage: 55.8+ MB\n"
     ]
    }
   ],
   "source": [
    "victime.info()"
   ]
  },
  {
   "cell_type": "code",
   "execution_count": 16,
   "metadata": {},
   "outputs": [
    {
     "data": {
      "text/html": [
       "<div>\n",
       "<style scoped>\n",
       "    .dataframe tbody tr th:only-of-type {\n",
       "        vertical-align: middle;\n",
       "    }\n",
       "\n",
       "    .dataframe tbody tr th {\n",
       "        vertical-align: top;\n",
       "    }\n",
       "\n",
       "    .dataframe thead th {\n",
       "        text-align: right;\n",
       "    }\n",
       "</style>\n",
       "<table border=\"1\" class=\"dataframe\">\n",
       "  <thead>\n",
       "    <tr style=\"text-align: right;\">\n",
       "      <th></th>\n",
       "      <th>Num_Acc</th>\n",
       "      <th>id_vehicule</th>\n",
       "      <th>num_veh</th>\n",
       "      <th>place</th>\n",
       "      <th>catu</th>\n",
       "      <th>grav</th>\n",
       "      <th>sexe</th>\n",
       "      <th>an_nais</th>\n",
       "      <th>trajet</th>\n",
       "      <th>secu1</th>\n",
       "      <th>...</th>\n",
       "      <th>prof</th>\n",
       "      <th>pr</th>\n",
       "      <th>pr1</th>\n",
       "      <th>plan</th>\n",
       "      <th>lartpc</th>\n",
       "      <th>larrout</th>\n",
       "      <th>surf</th>\n",
       "      <th>infra</th>\n",
       "      <th>situ</th>\n",
       "      <th>vma</th>\n",
       "    </tr>\n",
       "  </thead>\n",
       "  <tbody>\n",
       "    <tr>\n",
       "      <th>0</th>\n",
       "      <td>201900000001</td>\n",
       "      <td>138 306 524</td>\n",
       "      <td>B01</td>\n",
       "      <td>2</td>\n",
       "      <td>2</td>\n",
       "      <td>4</td>\n",
       "      <td>2</td>\n",
       "      <td>2002</td>\n",
       "      <td>0</td>\n",
       "      <td>1</td>\n",
       "      <td>...</td>\n",
       "      <td>1</td>\n",
       "      <td>6</td>\n",
       "      <td>900</td>\n",
       "      <td>2</td>\n",
       "      <td>NaN</td>\n",
       "      <td>NaN</td>\n",
       "      <td>1</td>\n",
       "      <td>2</td>\n",
       "      <td>1</td>\n",
       "      <td>70</td>\n",
       "    </tr>\n",
       "    <tr>\n",
       "      <th>1</th>\n",
       "      <td>201900000001</td>\n",
       "      <td>138 306 524</td>\n",
       "      <td>B01</td>\n",
       "      <td>1</td>\n",
       "      <td>1</td>\n",
       "      <td>4</td>\n",
       "      <td>2</td>\n",
       "      <td>1993</td>\n",
       "      <td>5</td>\n",
       "      <td>1</td>\n",
       "      <td>...</td>\n",
       "      <td>1</td>\n",
       "      <td>6</td>\n",
       "      <td>900</td>\n",
       "      <td>2</td>\n",
       "      <td>NaN</td>\n",
       "      <td>NaN</td>\n",
       "      <td>1</td>\n",
       "      <td>2</td>\n",
       "      <td>1</td>\n",
       "      <td>70</td>\n",
       "    </tr>\n",
       "    <tr>\n",
       "      <th>2</th>\n",
       "      <td>201900000001</td>\n",
       "      <td>138 306 525</td>\n",
       "      <td>A01</td>\n",
       "      <td>1</td>\n",
       "      <td>1</td>\n",
       "      <td>1</td>\n",
       "      <td>1</td>\n",
       "      <td>1959</td>\n",
       "      <td>0</td>\n",
       "      <td>1</td>\n",
       "      <td>...</td>\n",
       "      <td>1</td>\n",
       "      <td>6</td>\n",
       "      <td>900</td>\n",
       "      <td>2</td>\n",
       "      <td>NaN</td>\n",
       "      <td>NaN</td>\n",
       "      <td>1</td>\n",
       "      <td>2</td>\n",
       "      <td>1</td>\n",
       "      <td>70</td>\n",
       "    </tr>\n",
       "    <tr>\n",
       "      <th>3</th>\n",
       "      <td>201900000002</td>\n",
       "      <td>138 306 523</td>\n",
       "      <td>A01</td>\n",
       "      <td>1</td>\n",
       "      <td>1</td>\n",
       "      <td>4</td>\n",
       "      <td>2</td>\n",
       "      <td>1994</td>\n",
       "      <td>0</td>\n",
       "      <td>1</td>\n",
       "      <td>...</td>\n",
       "      <td>4</td>\n",
       "      <td>3</td>\n",
       "      <td>845</td>\n",
       "      <td>2</td>\n",
       "      <td>NaN</td>\n",
       "      <td>NaN</td>\n",
       "      <td>1</td>\n",
       "      <td>0</td>\n",
       "      <td>1</td>\n",
       "      <td>70</td>\n",
       "    </tr>\n",
       "    <tr>\n",
       "      <th>4</th>\n",
       "      <td>201900000003</td>\n",
       "      <td>138 306 520</td>\n",
       "      <td>A01</td>\n",
       "      <td>1</td>\n",
       "      <td>1</td>\n",
       "      <td>1</td>\n",
       "      <td>1</td>\n",
       "      <td>1996</td>\n",
       "      <td>0</td>\n",
       "      <td>1</td>\n",
       "      <td>...</td>\n",
       "      <td>1</td>\n",
       "      <td>10</td>\n",
       "      <td>500</td>\n",
       "      <td>3</td>\n",
       "      <td>NaN</td>\n",
       "      <td>NaN</td>\n",
       "      <td>1</td>\n",
       "      <td>0</td>\n",
       "      <td>1</td>\n",
       "      <td>90</td>\n",
       "    </tr>\n",
       "  </tbody>\n",
       "</table>\n",
       "<p>5 rows × 54 columns</p>\n",
       "</div>"
      ],
      "text/plain": [
       "        Num_Acc  id_vehicule num_veh  place  catu  grav  sexe  an_nais  \\\n",
       "0  201900000001  138 306 524     B01      2     2     4     2     2002   \n",
       "1  201900000001  138 306 524     B01      1     1     4     2     1993   \n",
       "2  201900000001  138 306 525     A01      1     1     1     1     1959   \n",
       "3  201900000002  138 306 523     A01      1     1     4     2     1994   \n",
       "4  201900000003  138 306 520     A01      1     1     1     1     1996   \n",
       "\n",
       "   trajet  secu1  ...  prof  pr  pr1 plan  lartpc  larrout  surf  infra  situ  \\\n",
       "0       0      1  ...     1   6  900    2     NaN      NaN     1      2     1   \n",
       "1       5      1  ...     1   6  900    2     NaN      NaN     1      2     1   \n",
       "2       0      1  ...     1   6  900    2     NaN      NaN     1      2     1   \n",
       "3       0      1  ...     4   3  845    2     NaN      NaN     1      0     1   \n",
       "4       0      1  ...     1  10  500    3     NaN      NaN     1      0     1   \n",
       "\n",
       "   vma  \n",
       "0   70  \n",
       "1   70  \n",
       "2   70  \n",
       "3   70  \n",
       "4   90  \n",
       "\n",
       "[5 rows x 54 columns]"
      ]
     },
     "execution_count": 16,
     "metadata": {},
     "output_type": "execute_result"
    }
   ],
   "source": [
    "victime.head()"
   ]
  },
  {
   "cell_type": "markdown",
   "metadata": {},
   "source": [
    "**Premières observations**\n",
    "- Etat de la route, type de véhicule, gravité de l'accident... : la plupart des données sont catégorielles, et codifiées sous la forme d'un chiffre entre -1 et 10. Nous devrons créer des variables factices en vue du traitement ultérieur de machine learning. \n",
    "- Plusieurs colonnes montrent des valeurs manquantes, auxquelles nous devrons remédier.\n",
    "- (Nous commencerons par la conversion en format numérique des colonnes, celle-ci étant susceptible de générer des valeurs manquantes.)"
   ]
  },
  {
   "cell_type": "markdown",
   "metadata": {},
   "source": [
    "### Preprocessing "
   ]
  },
  {
   "cell_type": "markdown",
   "metadata": {},
   "source": [
    "Réorganisons l'ordre des colonnes, avec notre donnée cible ('grav') à la fin, et donnons-leur des noms plus explicites."
   ]
  },
  {
   "cell_type": "code",
   "execution_count": 17,
   "metadata": {},
   "outputs": [],
   "source": [
    "victime.rename(columns={\"agg\":\"agglo\", \"int\":\"intersection\",\n",
    "                        \"atm\":\"meteo\",\"col\":\"collision\",\n",
    "                        'catr':'type_route','circ':'type_circu',\n",
    "                        'nbv':'nb_voies', 'prof':'declivite',\n",
    "                        'plan':'rectitude',\"surf\":\"surface\",\n",
    "                        'infra':'infrastructure','situ':'situ_acc',\n",
    "                        'vma':'vitesse_autorisee','senc':'sens_circu',\n",
    "                        'catv':'type_veh','obs':\"obst_fixe\",'obsm':'obst_mobile',\n",
    "                        'manv':'manoeuvre_veh','place':'place_veh',\n",
    "                        'catu':'type_usager','locp':'loc_pieton',\n",
    "                        'actp':'manoeuvre_pieton','etatp':'pieton_seul'},\n",
    "               inplace=True)"
   ]
  },
  {
   "cell_type": "code",
   "execution_count": 18,
   "metadata": {},
   "outputs": [],
   "source": [
    "victime = victime[['Num_Acc', 'an', 'mois', 'jour', 'hrmn', 'lum', 'dep', 'com', 'agglo', 'intersection', 'meteo', 'collision', 'adr', 'lat', 'long','type_route', 'voie', 'v1', 'v2','type_circu', 'nb_voies', 'vosp', 'declivite', 'pr', 'pr1', 'rectitude', 'lartpc', 'larrout','surface', 'infrastructure', 'situ_acc', 'vitesse_autorisee',\n",
    "         'id_vehicule', 'sens_circu', 'type_veh', 'obst_fixe', 'obst_mobile', 'choc', 'manoeuvre_veh', 'motor', 'occutc', 'num_veh', 'place_veh', 'type_usager', 'sexe', 'an_nais', 'trajet', 'secu1', 'secu2', 'secu3', 'loc_pieton', 'manoeuvre_pieton', 'pieton_seul', 'grav']]"
   ]
  },
  {
   "cell_type": "markdown",
   "metadata": {},
   "source": [
    "**Correction des formats de données**"
   ]
  },
  {
   "cell_type": "code",
   "execution_count": 19,
   "metadata": {},
   "outputs": [
    {
     "name": "stdout",
     "output_type": "stream",
     "text": [
      "Initialement, 13 colonnes sont au format \"objet\" : ['hrmn', 'dep', 'com', 'adr', 'lat', 'long', 'voie', 'v2', 'pr', 'pr1', 'id_vehicule', 'num_veh', 'manoeuvre_pieton']\n"
     ]
    }
   ],
   "source": [
    "print(f'Initialement, {len(list(victime.dtypes[victime.dtypes == object]))} colonnes sont au format \"objet\" : {list(victime.dtypes[victime.dtypes == object].index)}')"
   ]
  },
  {
   "cell_type": "markdown",
   "metadata": {},
   "source": [
    "**Observations**\n",
    "Ce sont toutes des colonnes de type qualitatif, le format est donc adéquat à ce stade. \n",
    "NB : avant le traitement de machine learning, nous devrons les convertir en variables factices."
   ]
  },
  {
   "cell_type": "code",
   "execution_count": 20,
   "metadata": {},
   "outputs": [
    {
     "name": "stdout",
     "output_type": "stream",
     "text": [
      "Les 41 autres variables sont sous format chiffré (nombre entier ou décimal) : ['Num_Acc', 'an', 'mois', 'jour', 'lum', 'agglo', 'intersection', 'meteo', 'collision', 'type_route', 'v1', 'type_circu', 'nb_voies', 'vosp', 'declivite', 'rectitude', 'lartpc', 'larrout', 'surface', 'infrastructure', 'situ_acc', 'vitesse_autorisee', 'sens_circu', 'type_veh', 'obst_fixe', 'obst_mobile', 'choc', 'manoeuvre_veh', 'motor', 'occutc', 'place_veh', 'type_usager', 'sexe', 'an_nais', 'trajet', 'secu1', 'secu2', 'secu3', 'loc_pieton', 'pieton_seul', 'grav']\n",
      "Seules quelques-unes sont réllement de nature numérique, nous convertissons donc les autres au format 'objet' afin de refléter leur nature catégorielle et faciliter l'encodage qui devra avoir lieu avant le  machine learning.\n"
     ]
    }
   ],
   "source": [
    "numlist = list(victime.dtypes[victime.dtypes != object].index)\n",
    "print(f\"Les {len(numlist)} autres variables sont sous format chiffré (nombre entier ou décimal) : {numlist}\")\n",
    "print(f\"Seules quelques-unes sont réllement de nature numérique, nous convertissons donc les autres au format 'objet' afin de refléter leur nature catégorielle et faciliter l'encodage qui devra avoir lieu avant le  machine learning.\")"
   ]
  },
  {
   "cell_type": "code",
   "execution_count": 21,
   "metadata": {},
   "outputs": [
    {
     "data": {
      "text/plain": [
       "Num_Acc               object\n",
       "an                     int64\n",
       "mois                   int64\n",
       "jour                   int64\n",
       "hrmn                  object\n",
       "lum                   object\n",
       "dep                   object\n",
       "com                   object\n",
       "agglo                 object\n",
       "intersection          object\n",
       "meteo                 object\n",
       "collision             object\n",
       "adr                   object\n",
       "lat                   object\n",
       "long                  object\n",
       "type_route            object\n",
       "voie                  object\n",
       "v1                    object\n",
       "v2                    object\n",
       "type_circu            object\n",
       "nb_voies               int64\n",
       "vosp                  object\n",
       "declivite             object\n",
       "pr                    object\n",
       "pr1                   object\n",
       "rectitude             object\n",
       "lartpc               float64\n",
       "larrout              float64\n",
       "surface               object\n",
       "infrastructure        object\n",
       "situ_acc              object\n",
       "vitesse_autorisee      int64\n",
       "id_vehicule           object\n",
       "sens_circu            object\n",
       "type_veh              object\n",
       "obst_fixe             object\n",
       "obst_mobile           object\n",
       "choc                  object\n",
       "manoeuvre_veh         object\n",
       "motor                 object\n",
       "occutc               float64\n",
       "num_veh               object\n",
       "place_veh             object\n",
       "type_usager           object\n",
       "sexe                  object\n",
       "an_nais                int64\n",
       "trajet                object\n",
       "secu1                 object\n",
       "secu2                 object\n",
       "secu3                 object\n",
       "loc_pieton            object\n",
       "manoeuvre_pieton      object\n",
       "pieton_seul           object\n",
       "grav                  object\n",
       "dtype: object"
      ]
     },
     "execution_count": 21,
     "metadata": {},
     "output_type": "execute_result"
    }
   ],
   "source": [
    "def convert_to_string(col):\n",
    "    victime[col] = victime[col].astype(str)\n",
    "\n",
    "numlist.remove('jour')\n",
    "numlist.remove('mois')\n",
    "numlist.remove('an')\n",
    "numlist.remove('vitesse_autorisee')\n",
    "numlist.remove('nb_voies')\n",
    "numlist.remove('occutc')\n",
    "numlist.remove('lartpc')\n",
    "numlist.remove('larrout')\n",
    "numlist.remove('an_nais')\n",
    "\n",
    "for e in numlist:\n",
    "    convert_to_string(e)\n",
    "victime.dtypes"
   ]
  },
  {
   "cell_type": "code",
   "execution_count": 22,
   "metadata": {},
   "outputs": [
    {
     "name": "stdout",
     "output_type": "stream",
     "text": [
      "Nous avons donc désormais, dans notre jeu de données, 45 colonnes catégorielles de type 'texte' et 9 variables numériques de type 'chiffre' (entier ou décimal).\n"
     ]
    }
   ],
   "source": [
    "print(f\"Nous avons donc désormais, dans notre jeu de données, {len(list(victime.dtypes[victime.dtypes == object].index))} colonnes catégorielles de type 'texte' et {len(list(victime.dtypes[victime.dtypes != object].index))} variables numériques de type 'chiffre' (entier ou décimal).\")"
   ]
  },
  {
   "cell_type": "code",
   "execution_count": 23,
   "metadata": {},
   "outputs": [],
   "source": [
    "victime.nb_voies = victime.nb_voies.astype('int64')\n",
    "victime.vitesse_autorisee = victime.vitesse_autorisee.astype('int64')"
   ]
  },
  {
   "cell_type": "markdown",
   "metadata": {},
   "source": [
    "**Correction des variables**"
   ]
  },
  {
   "cell_type": "markdown",
   "metadata": {},
   "source": [
    "La codification des variables catégorielles n'est pas complètement harmonisée entre colonnes. \n",
    "- De manière générale, les valeurs manquantes sont repérées par l'absence de valeur, mais également par les valeurs '-1', (1), '0' ou '8' suivant la variable considérée.\n",
    "- De même, \"Non applicable / Sans objet\" est repéré, suivant les variables, par la valeur '0, '1', '7' ou l'absence de valeur.\n",
    "- Dans certains cas, la valeur \"0\" signifie \"aucun\".\n",
    "Nous procédons à une harmonisation :\n",
    "- Manquant = -1\n",
    "- Non applicable = IRLVT"
   ]
  },
  {
   "cell_type": "code",
   "execution_count": 24,
   "metadata": {},
   "outputs": [],
   "source": [
    "# Variable 'int' (intersection) : changement de  valeur '1' (\"hors intersection\") à valeur  \"IRLVT\".\n",
    "victime.loc[victime.intersection=='1','intersection'] = 'IRLVT'"
   ]
  },
  {
   "cell_type": "code",
   "execution_count": 25,
   "metadata": {},
   "outputs": [],
   "source": [
    "# Variable 'collision' : changement de \"sans collision\" (valeur '7') à \"IRLVT\".\n",
    "victime.loc[victime.collision=='7','collision']='IRLVT'"
   ]
  },
  {
   "cell_type": "code",
   "execution_count": 26,
   "metadata": {},
   "outputs": [],
   "source": [
    "# Variable \"sens de la circulation\" : changement de \"inconnu\" (0) à \"valeur manquante\", changement de \"repère absent\" (3) à \"IRLVT\".\n",
    "victime.loc[victime.sens_circu=='0','sens_circu']='-1'\n",
    "victime.loc[victime.sens_circu=='3','sens_circu']='IRLVT'"
   ]
  },
  {
   "cell_type": "code",
   "execution_count": 27,
   "metadata": {},
   "outputs": [],
   "source": [
    "# Changement de \"type de voie réservée\" de \"sans objet\" à \"IRLVT\".\n",
    "victime.loc[victime.vosp=='0','vosp']='IRLVT'"
   ]
  },
  {
   "cell_type": "code",
   "execution_count": 28,
   "metadata": {},
   "outputs": [],
   "source": [
    "# Changement de \"type d'infrastructure\" de \"aucun\" à \"IRLVT\".\n",
    "victime.loc[victime.infrastructure=='0','infrastructure']='IRLVT'"
   ]
  },
  {
   "cell_type": "code",
   "execution_count": 29,
   "metadata": {},
   "outputs": [],
   "source": [
    "# Changement de \"type de véhicule\" de \"inconnu\" à \"valeur manquante\".\n",
    "victime.loc[victime.type_veh=='0','type_veh']='-1'"
   ]
  },
  {
   "cell_type": "code",
   "execution_count": 30,
   "metadata": {},
   "outputs": [],
   "source": [
    "# Changement de \"type d'obstacle\" de \"sans objet\" à \"IRLVT\".\n",
    "victime.loc[victime.obst_fixe=='0','obst_fixe']='IRLVT'"
   ]
  },
  {
   "cell_type": "code",
   "execution_count": 31,
   "metadata": {},
   "outputs": [],
   "source": [
    "# Changement de \"type d'obstacle mobile\" de \"aucun\" à \"IRLVT\".\n",
    "victime.loc[victime.obst_mobile=='0','obst_mobile']='IRLVT'"
   ]
  },
  {
   "cell_type": "code",
   "execution_count": 32,
   "metadata": {},
   "outputs": [],
   "source": [
    "# Changement de \"type de choc\" de \"aucun\" à \"IRLVT\".\n",
    "victime.loc[victime.choc=='0','choc']='IRLVT'"
   ]
  },
  {
   "cell_type": "code",
   "execution_count": 33,
   "metadata": {},
   "outputs": [],
   "source": [
    "# Changement de \"manoeuvre du véhicule\" de \"inconnue\" à \"valeur manquante\".\n",
    "victime.loc[victime.manoeuvre_veh=='0','manoeuvre_veh']='-1'"
   ]
  },
  {
   "cell_type": "code",
   "execution_count": 34,
   "metadata": {},
   "outputs": [],
   "source": [
    "# Changement de \"motorisation\" de \"inconnue\" à \"valeur manquante\".\n",
    "victime.loc[victime.motor=='0','motor']='-1'"
   ]
  },
  {
   "cell_type": "code",
   "execution_count": 35,
   "metadata": {},
   "outputs": [],
   "source": [
    "# Changement du type de trajet de \"non renseigné\" à \"valeur manquante\".\n",
    "victime.loc[victime.trajet=='0', 'trajet'] = '-1'"
   ]
  },
  {
   "cell_type": "code",
   "execution_count": 36,
   "metadata": {},
   "outputs": [],
   "source": [
    "# Changement de \"type d'équipement\" de \"non déterminable\" à \"valeur manquante\".\n",
    "victime.loc[victime.secu1=='8','secu1']='-1'"
   ]
  },
  {
   "cell_type": "code",
   "execution_count": 37,
   "metadata": {},
   "outputs": [],
   "source": [
    "# Variables \"localisation du piéton\" et \"manoeuvre du piéton\"\n",
    "victime.loc[(victime.type_usager=='3')&(victime.manoeuvre_pieton =='0'),'manoeuvre_pieton']=\"-1\"\n",
    "victime.loc[(victime.type_usager=='3')&(victime.loc_pieton =='0'),'loc_pieton']=\"-1\"\n",
    "victime.loc[victime.type_usager!='3','manoeuvre_pieton']=\"IRLVT\"\n",
    "victime.loc[victime.type_usager!='3','loc_pieton']=\"IRLVT\"\n",
    "victime.loc[victime.type_usager!='3','pieton_seul']=\"IRLVT\""
   ]
  },
  {
   "cell_type": "code",
   "execution_count": 38,
   "metadata": {},
   "outputs": [],
   "source": [
    "# Variable \"Véhicule impliqué\" : suppression des valeurs erronées\n",
    "victime.loc[victime.num_veh=='CB01','num_veh']='-1'\n",
    "victime.loc[victime.num_veh=='LB01','num_veh']='-1'\n",
    "victime.loc[victime.num_veh=='MA01','num_veh']='-1'\n",
    "victime.loc[victime.num_veh=='VF01','num_veh']='-1'\n",
    "victime.loc[victime.num_veh==\"\\\\01\",'num_veh']='-1'"
   ]
  },
  {
   "cell_type": "code",
   "execution_count": 39,
   "metadata": {},
   "outputs": [],
   "source": [
    "victime.replace(-1, np.NaN, inplace=True)\n",
    "victime = victime.replace(r'^-1$', np.NaN, regex=True)\n",
    "victime = victime.replace(r'^ -1$', np.NaN, regex=True)\n",
    "victime = victime.replace(r'^\\(1\\)$', np.NaN, regex=True)"
   ]
  },
  {
   "cell_type": "code",
   "execution_count": 40,
   "metadata": {},
   "outputs": [],
   "source": [
    "victime.dep.replace({'1':'01',\n",
    "                     '2':'02',\n",
    "                     '3':'03',\n",
    "                     '4':'04',\n",
    "                     '5':'05',\n",
    "                     '6':'06',\n",
    "                     '7':'07',\n",
    "                     '8':'08',\n",
    "                     '9':'09'},\n",
    "                     inplace=True)"
   ]
  },
  {
   "cell_type": "code",
   "execution_count": 41,
   "metadata": {},
   "outputs": [
    {
     "data": {
      "text/plain": [
       "(132977, 54)"
      ]
     },
     "execution_count": 41,
     "metadata": {},
     "output_type": "execute_result"
    }
   ],
   "source": [
    "victime.shape"
   ]
  },
  {
   "cell_type": "markdown",
   "metadata": {},
   "source": [
    "**Valeurs manquantes**"
   ]
  },
  {
   "cell_type": "markdown",
   "metadata": {},
   "source": [
    "Imprimons le ratio de valeurs manquantes par colonne."
   ]
  },
  {
   "cell_type": "code",
   "execution_count": 42,
   "metadata": {},
   "outputs": [
    {
     "data": {
      "text/html": [
       "<div>\n",
       "<style scoped>\n",
       "    .dataframe tbody tr th:only-of-type {\n",
       "        vertical-align: middle;\n",
       "    }\n",
       "\n",
       "    .dataframe tbody tr th {\n",
       "        vertical-align: top;\n",
       "    }\n",
       "\n",
       "    .dataframe thead th {\n",
       "        text-align: right;\n",
       "    }\n",
       "</style>\n",
       "<table border=\"1\" class=\"dataframe\">\n",
       "  <thead>\n",
       "    <tr style=\"text-align: right;\">\n",
       "      <th></th>\n",
       "      <th>missing_%</th>\n",
       "    </tr>\n",
       "  </thead>\n",
       "  <tbody>\n",
       "    <tr>\n",
       "      <th>lartpc</th>\n",
       "      <td>99.648811</td>\n",
       "    </tr>\n",
       "    <tr>\n",
       "      <th>larrout</th>\n",
       "      <td>99.375080</td>\n",
       "    </tr>\n",
       "    <tr>\n",
       "      <th>secu3</th>\n",
       "      <td>98.680975</td>\n",
       "    </tr>\n",
       "    <tr>\n",
       "      <th>occutc</th>\n",
       "      <td>98.587726</td>\n",
       "    </tr>\n",
       "    <tr>\n",
       "      <th>v2</th>\n",
       "      <td>92.673921</td>\n",
       "    </tr>\n",
       "    <tr>\n",
       "      <th>secu2</th>\n",
       "      <td>30.203719</td>\n",
       "    </tr>\n",
       "    <tr>\n",
       "      <th>trajet</th>\n",
       "      <td>26.259428</td>\n",
       "    </tr>\n",
       "    <tr>\n",
       "      <th>secu1</th>\n",
       "      <td>14.570941</td>\n",
       "    </tr>\n",
       "    <tr>\n",
       "      <th>pr1</th>\n",
       "      <td>12.378832</td>\n",
       "    </tr>\n",
       "    <tr>\n",
       "      <th>pr</th>\n",
       "      <td>11.867466</td>\n",
       "    </tr>\n",
       "    <tr>\n",
       "      <th>motor</th>\n",
       "      <td>10.458952</td>\n",
       "    </tr>\n",
       "    <tr>\n",
       "      <th>sens_circu</th>\n",
       "      <td>7.253134</td>\n",
       "    </tr>\n",
       "    <tr>\n",
       "      <th>manoeuvre_veh</th>\n",
       "      <td>5.403942</td>\n",
       "    </tr>\n",
       "    <tr>\n",
       "      <th>type_circu</th>\n",
       "      <td>5.058018</td>\n",
       "    </tr>\n",
       "    <tr>\n",
       "      <th>voie</th>\n",
       "      <td>4.447386</td>\n",
       "    </tr>\n",
       "    <tr>\n",
       "      <th>vitesse_autorisee</th>\n",
       "      <td>1.428067</td>\n",
       "    </tr>\n",
       "    <tr>\n",
       "      <th>vosp</th>\n",
       "      <td>1.075374</td>\n",
       "    </tr>\n",
       "    <tr>\n",
       "      <th>nb_voies</th>\n",
       "      <td>1.057326</td>\n",
       "    </tr>\n",
       "    <tr>\n",
       "      <th>adr</th>\n",
       "      <td>0.767802</td>\n",
       "    </tr>\n",
       "    <tr>\n",
       "      <th>type_veh</th>\n",
       "      <td>0.185746</td>\n",
       "    </tr>\n",
       "    <tr>\n",
       "      <th>loc_pieton</th>\n",
       "      <td>0.175218</td>\n",
       "    </tr>\n",
       "    <tr>\n",
       "      <th>situ_acc</th>\n",
       "      <td>0.170706</td>\n",
       "    </tr>\n",
       "    <tr>\n",
       "      <th>manoeuvre_pieton</th>\n",
       "      <td>0.158674</td>\n",
       "    </tr>\n",
       "    <tr>\n",
       "      <th>pieton_seul</th>\n",
       "      <td>0.156418</td>\n",
       "    </tr>\n",
       "    <tr>\n",
       "      <th>infrastructure</th>\n",
       "      <td>0.074449</td>\n",
       "    </tr>\n",
       "    <tr>\n",
       "      <th>obst_mobile</th>\n",
       "      <td>0.066929</td>\n",
       "    </tr>\n",
       "    <tr>\n",
       "      <th>choc</th>\n",
       "      <td>0.036848</td>\n",
       "    </tr>\n",
       "    <tr>\n",
       "      <th>obst_fixe</th>\n",
       "      <td>0.032336</td>\n",
       "    </tr>\n",
       "    <tr>\n",
       "      <th>surface</th>\n",
       "      <td>0.030080</td>\n",
       "    </tr>\n",
       "    <tr>\n",
       "      <th>declivite</th>\n",
       "      <td>0.023312</td>\n",
       "    </tr>\n",
       "    <tr>\n",
       "      <th>rectitude</th>\n",
       "      <td>0.012032</td>\n",
       "    </tr>\n",
       "    <tr>\n",
       "      <th>num_veh</th>\n",
       "      <td>0.004512</td>\n",
       "    </tr>\n",
       "    <tr>\n",
       "      <th>collision</th>\n",
       "      <td>0.001504</td>\n",
       "    </tr>\n",
       "    <tr>\n",
       "      <th>meteo</th>\n",
       "      <td>0.000752</td>\n",
       "    </tr>\n",
       "    <tr>\n",
       "      <th>type_usager</th>\n",
       "      <td>0.000000</td>\n",
       "    </tr>\n",
       "    <tr>\n",
       "      <th>place_veh</th>\n",
       "      <td>0.000000</td>\n",
       "    </tr>\n",
       "    <tr>\n",
       "      <th>sexe</th>\n",
       "      <td>0.000000</td>\n",
       "    </tr>\n",
       "    <tr>\n",
       "      <th>an_nais</th>\n",
       "      <td>0.000000</td>\n",
       "    </tr>\n",
       "    <tr>\n",
       "      <th>Num_Acc</th>\n",
       "      <td>0.000000</td>\n",
       "    </tr>\n",
       "    <tr>\n",
       "      <th>id_vehicule</th>\n",
       "      <td>0.000000</td>\n",
       "    </tr>\n",
       "    <tr>\n",
       "      <th>an</th>\n",
       "      <td>0.000000</td>\n",
       "    </tr>\n",
       "    <tr>\n",
       "      <th>v1</th>\n",
       "      <td>0.000000</td>\n",
       "    </tr>\n",
       "    <tr>\n",
       "      <th>type_route</th>\n",
       "      <td>0.000000</td>\n",
       "    </tr>\n",
       "    <tr>\n",
       "      <th>long</th>\n",
       "      <td>0.000000</td>\n",
       "    </tr>\n",
       "    <tr>\n",
       "      <th>lat</th>\n",
       "      <td>0.000000</td>\n",
       "    </tr>\n",
       "    <tr>\n",
       "      <th>intersection</th>\n",
       "      <td>0.000000</td>\n",
       "    </tr>\n",
       "    <tr>\n",
       "      <th>agglo</th>\n",
       "      <td>0.000000</td>\n",
       "    </tr>\n",
       "    <tr>\n",
       "      <th>com</th>\n",
       "      <td>0.000000</td>\n",
       "    </tr>\n",
       "    <tr>\n",
       "      <th>dep</th>\n",
       "      <td>0.000000</td>\n",
       "    </tr>\n",
       "    <tr>\n",
       "      <th>lum</th>\n",
       "      <td>0.000000</td>\n",
       "    </tr>\n",
       "    <tr>\n",
       "      <th>hrmn</th>\n",
       "      <td>0.000000</td>\n",
       "    </tr>\n",
       "    <tr>\n",
       "      <th>jour</th>\n",
       "      <td>0.000000</td>\n",
       "    </tr>\n",
       "    <tr>\n",
       "      <th>mois</th>\n",
       "      <td>0.000000</td>\n",
       "    </tr>\n",
       "    <tr>\n",
       "      <th>grav</th>\n",
       "      <td>0.000000</td>\n",
       "    </tr>\n",
       "  </tbody>\n",
       "</table>\n",
       "</div>"
      ],
      "text/plain": [
       "                   missing_%\n",
       "lartpc             99.648811\n",
       "larrout            99.375080\n",
       "secu3              98.680975\n",
       "occutc             98.587726\n",
       "v2                 92.673921\n",
       "secu2              30.203719\n",
       "trajet             26.259428\n",
       "secu1              14.570941\n",
       "pr1                12.378832\n",
       "pr                 11.867466\n",
       "motor              10.458952\n",
       "sens_circu          7.253134\n",
       "manoeuvre_veh       5.403942\n",
       "type_circu          5.058018\n",
       "voie                4.447386\n",
       "vitesse_autorisee   1.428067\n",
       "vosp                1.075374\n",
       "nb_voies            1.057326\n",
       "adr                 0.767802\n",
       "type_veh            0.185746\n",
       "loc_pieton          0.175218\n",
       "situ_acc            0.170706\n",
       "manoeuvre_pieton    0.158674\n",
       "pieton_seul         0.156418\n",
       "infrastructure      0.074449\n",
       "obst_mobile         0.066929\n",
       "choc                0.036848\n",
       "obst_fixe           0.032336\n",
       "surface             0.030080\n",
       "declivite           0.023312\n",
       "rectitude           0.012032\n",
       "num_veh             0.004512\n",
       "collision           0.001504\n",
       "meteo               0.000752\n",
       "type_usager         0.000000\n",
       "place_veh           0.000000\n",
       "sexe                0.000000\n",
       "an_nais             0.000000\n",
       "Num_Acc             0.000000\n",
       "id_vehicule         0.000000\n",
       "an                  0.000000\n",
       "v1                  0.000000\n",
       "type_route          0.000000\n",
       "long                0.000000\n",
       "lat                 0.000000\n",
       "intersection        0.000000\n",
       "agglo               0.000000\n",
       "com                 0.000000\n",
       "dep                 0.000000\n",
       "lum                 0.000000\n",
       "hrmn                0.000000\n",
       "jour                0.000000\n",
       "mois                0.000000\n",
       "grav                0.000000"
      ]
     },
     "execution_count": 42,
     "metadata": {},
     "output_type": "execute_result"
    }
   ],
   "source": [
    "percent_missing = victime.isna().sum() * 100 / len(victime)\n",
    "missing_values = pd.DataFrame({'missing_%': percent_missing}, index = victime.columns).sort_values(by='missing_%', ascending=False)\n",
    "missing_values"
   ]
  },
  {
   "cell_type": "code",
   "execution_count": 43,
   "metadata": {},
   "outputs": [
    {
     "name": "stdout",
     "output_type": "stream",
     "text": [
      "Supprimons les 11 colonnes qui contiennent plus de 10% de valeurs manquantes : ['lartpc', 'larrout', 'secu3', 'occutc', 'v2', 'secu2', 'trajet', 'secu1', 'pr1', 'pr', 'motor']\n"
     ]
    }
   ],
   "source": [
    "more_than_10 = list(missing_values[(missing_values['missing_%']>=10)].index)\n",
    "print(f\"Supprimons les {len(more_than_10)} colonnes qui contiennent plus de 10% de valeurs manquantes : {more_than_10}\")\n",
    "victime.drop(columns=more_than_10, axis = 1, inplace = True)"
   ]
  },
  {
   "cell_type": "code",
   "execution_count": 44,
   "metadata": {},
   "outputs": [
    {
     "name": "stdout",
     "output_type": "stream",
     "text": [
      "Ensuite, suppprimons les lignes dont les valeurs manquantes représentent moins d'1% de leurs colonnes respectives : ['adr', 'type_veh', 'loc_pieton', 'situ_acc', 'manoeuvre_pieton', 'pieton_seul', 'infrastructure', 'obst_mobile', 'choc', 'obst_fixe', 'surface', 'declivite', 'rectitude', 'num_veh', 'collision', 'meteo'].\n"
     ]
    }
   ],
   "source": [
    "less_than_1 = list(missing_values[(missing_values['missing_%']>0)&(missing_values['missing_%']<1)].index)\n",
    "print(f\"Ensuite, suppprimons les lignes dont les valeurs manquantes représentent moins d'1% de leurs colonnes respectives : {less_than_1}.\")\n",
    "victime.dropna(subset = less_than_1, inplace = True)"
   ]
  },
  {
   "cell_type": "code",
   "execution_count": 45,
   "metadata": {},
   "outputs": [
    {
     "name": "stdout",
     "output_type": "stream",
     "text": [
      "Enfin, 7 colonnes ont un ratio de valeurs manquantes comprises entre 1 et 10% : ['sens_circu', 'manoeuvre_veh', 'type_circu', 'voie', 'vitesse_autorisee', 'vosp', 'nb_voies'].\n",
      "Nous décidons de remplacer les valeurs manquantes des séries catégorielles par la valeur majoritaire, et celles des séries numériques par la valeur médiane.\n"
     ]
    }
   ],
   "source": [
    "between_1_and_10 = list(missing_values[(missing_values['missing_%']>=1)&(missing_values['missing_%']<10)].index)\n",
    "print(f\"Enfin, {len(between_1_and_10)} colonnes ont un ratio de valeurs manquantes comprises entre 1 et 10% : {between_1_and_10}.\")\n",
    "print(\"Nous décidons de remplacer les valeurs manquantes des séries catégorielles par la valeur majoritaire, et celles des séries numériques par la valeur médiane.\")"
   ]
  },
  {
   "cell_type": "code",
   "execution_count": 46,
   "metadata": {},
   "outputs": [],
   "source": [
    "victime.sens_circu.fillna(victime.sens_circu.mode()[0], inplace=True)\n",
    "victime.manoeuvre_veh.fillna(victime.manoeuvre_veh.mode()[0], inplace=True)\n",
    "victime.type_circu.fillna(victime.type_circu.mode()[0], inplace=True)\n",
    "victime.voie.fillna(victime.voie.mode()[0], inplace=True)\n",
    "victime.vosp.fillna(victime.vosp.mode()[0], inplace=True)\n",
    "victime.vitesse_autorisee.fillna(victime.vitesse_autorisee.median(), inplace=True)\n",
    "victime.nb_voies.fillna(victime.nb_voies.median(), inplace=True)"
   ]
  },
  {
   "cell_type": "markdown",
   "metadata": {},
   "source": [
    "Vérifions que plus aucune valeur ne manque à notre jeu de données :"
   ]
  },
  {
   "cell_type": "code",
   "execution_count": 47,
   "metadata": {},
   "outputs": [
    {
     "name": "stdout",
     "output_type": "stream",
     "text": [
      "Plus de valeur manquante dans le jeu de données.\n"
     ]
    }
   ],
   "source": [
    "if victime.isna().sum().any() == False:\n",
    "    print('Plus de valeur manquante dans le jeu de données.')\n",
    "else:\n",
    "    print(victime.isna().sum())"
   ]
  },
  {
   "cell_type": "code",
   "execution_count": 48,
   "metadata": {},
   "outputs": [
    {
     "data": {
      "text/plain": [
       "(130901, 43)"
      ]
     },
     "execution_count": 48,
     "metadata": {},
     "output_type": "execute_result"
    }
   ],
   "source": [
    "victime.shape"
   ]
  },
  {
   "cell_type": "markdown",
   "metadata": {},
   "source": [
    "**Valeurs aberrantes**\n",
    "\n",
    "Repérons et traitons les valeurs aberrantes."
   ]
  },
  {
   "cell_type": "code",
   "execution_count": 49,
   "metadata": {},
   "outputs": [
    {
     "data": {
      "text/html": [
       "<div>\n",
       "<style scoped>\n",
       "    .dataframe tbody tr th:only-of-type {\n",
       "        vertical-align: middle;\n",
       "    }\n",
       "\n",
       "    .dataframe tbody tr th {\n",
       "        vertical-align: top;\n",
       "    }\n",
       "\n",
       "    .dataframe thead th {\n",
       "        text-align: right;\n",
       "    }\n",
       "</style>\n",
       "<table border=\"1\" class=\"dataframe\">\n",
       "  <thead>\n",
       "    <tr style=\"text-align: right;\">\n",
       "      <th></th>\n",
       "      <th>victime_valeur_min</th>\n",
       "      <th>victime_valeur_max</th>\n",
       "    </tr>\n",
       "  </thead>\n",
       "  <tbody>\n",
       "    <tr>\n",
       "      <th>Num_Acc</th>\n",
       "      <td>201900000001</td>\n",
       "      <td>201900058840</td>\n",
       "    </tr>\n",
       "    <tr>\n",
       "      <th>an</th>\n",
       "      <td>2019</td>\n",
       "      <td>2019</td>\n",
       "    </tr>\n",
       "    <tr>\n",
       "      <th>mois</th>\n",
       "      <td>1</td>\n",
       "      <td>12</td>\n",
       "    </tr>\n",
       "    <tr>\n",
       "      <th>jour</th>\n",
       "      <td>1</td>\n",
       "      <td>31</td>\n",
       "    </tr>\n",
       "    <tr>\n",
       "      <th>hrmn</th>\n",
       "      <td>00:00</td>\n",
       "      <td>23:59</td>\n",
       "    </tr>\n",
       "    <tr>\n",
       "      <th>lum</th>\n",
       "      <td>1</td>\n",
       "      <td>5</td>\n",
       "    </tr>\n",
       "    <tr>\n",
       "      <th>dep</th>\n",
       "      <td>01</td>\n",
       "      <td>988</td>\n",
       "    </tr>\n",
       "    <tr>\n",
       "      <th>com</th>\n",
       "      <td>01004</td>\n",
       "      <td>98833</td>\n",
       "    </tr>\n",
       "    <tr>\n",
       "      <th>agglo</th>\n",
       "      <td>1</td>\n",
       "      <td>2</td>\n",
       "    </tr>\n",
       "    <tr>\n",
       "      <th>intersection</th>\n",
       "      <td>2</td>\n",
       "      <td>IRLVT</td>\n",
       "    </tr>\n",
       "    <tr>\n",
       "      <th>meteo</th>\n",
       "      <td>1</td>\n",
       "      <td>9</td>\n",
       "    </tr>\n",
       "    <tr>\n",
       "      <th>collision</th>\n",
       "      <td>1</td>\n",
       "      <td>IRLVT</td>\n",
       "    </tr>\n",
       "    <tr>\n",
       "      <th>adr</th>\n",
       "      <td>(Bd FELIX mercarder</td>\n",
       "      <td>échangeur de la croix rouge</td>\n",
       "    </tr>\n",
       "    <tr>\n",
       "      <th>lat</th>\n",
       "      <td>-12,7156360</td>\n",
       "      <td>63,5680660</td>\n",
       "    </tr>\n",
       "    <tr>\n",
       "      <th>long</th>\n",
       "      <td>-0,0012150</td>\n",
       "      <td>9,5507480</td>\n",
       "    </tr>\n",
       "    <tr>\n",
       "      <th>type_route</th>\n",
       "      <td>1</td>\n",
       "      <td>9</td>\n",
       "    </tr>\n",
       "    <tr>\n",
       "      <th>voie</th>\n",
       "      <td>Rue Edmond Locard</td>\n",
       "      <td>vc</td>\n",
       "    </tr>\n",
       "    <tr>\n",
       "      <th>v1</th>\n",
       "      <td>0.0</td>\n",
       "      <td>nan</td>\n",
       "    </tr>\n",
       "    <tr>\n",
       "      <th>type_circu</th>\n",
       "      <td>1</td>\n",
       "      <td>4</td>\n",
       "    </tr>\n",
       "    <tr>\n",
       "      <th>nb_voies</th>\n",
       "      <td>0</td>\n",
       "      <td>12</td>\n",
       "    </tr>\n",
       "    <tr>\n",
       "      <th>vosp</th>\n",
       "      <td>1</td>\n",
       "      <td>IRLVT</td>\n",
       "    </tr>\n",
       "    <tr>\n",
       "      <th>declivite</th>\n",
       "      <td>1</td>\n",
       "      <td>4</td>\n",
       "    </tr>\n",
       "    <tr>\n",
       "      <th>rectitude</th>\n",
       "      <td>1</td>\n",
       "      <td>4</td>\n",
       "    </tr>\n",
       "    <tr>\n",
       "      <th>surface</th>\n",
       "      <td>1</td>\n",
       "      <td>9</td>\n",
       "    </tr>\n",
       "    <tr>\n",
       "      <th>infrastructure</th>\n",
       "      <td>1</td>\n",
       "      <td>IRLVT</td>\n",
       "    </tr>\n",
       "    <tr>\n",
       "      <th>situ_acc</th>\n",
       "      <td>1</td>\n",
       "      <td>8</td>\n",
       "    </tr>\n",
       "    <tr>\n",
       "      <th>vitesse_autorisee</th>\n",
       "      <td>0</td>\n",
       "      <td>800</td>\n",
       "    </tr>\n",
       "    <tr>\n",
       "      <th>id_vehicule</th>\n",
       "      <td>137 982 129</td>\n",
       "      <td>138 306 525</td>\n",
       "    </tr>\n",
       "    <tr>\n",
       "      <th>sens_circu</th>\n",
       "      <td>1</td>\n",
       "      <td>IRLVT</td>\n",
       "    </tr>\n",
       "    <tr>\n",
       "      <th>type_veh</th>\n",
       "      <td>1</td>\n",
       "      <td>99</td>\n",
       "    </tr>\n",
       "    <tr>\n",
       "      <th>obst_fixe</th>\n",
       "      <td>1</td>\n",
       "      <td>IRLVT</td>\n",
       "    </tr>\n",
       "    <tr>\n",
       "      <th>obst_mobile</th>\n",
       "      <td>1</td>\n",
       "      <td>IRLVT</td>\n",
       "    </tr>\n",
       "    <tr>\n",
       "      <th>choc</th>\n",
       "      <td>1</td>\n",
       "      <td>IRLVT</td>\n",
       "    </tr>\n",
       "    <tr>\n",
       "      <th>manoeuvre_veh</th>\n",
       "      <td>1</td>\n",
       "      <td>9</td>\n",
       "    </tr>\n",
       "    <tr>\n",
       "      <th>num_veh</th>\n",
       "      <td>A01</td>\n",
       "      <td>Z01</td>\n",
       "    </tr>\n",
       "    <tr>\n",
       "      <th>place_veh</th>\n",
       "      <td>1</td>\n",
       "      <td>9</td>\n",
       "    </tr>\n",
       "    <tr>\n",
       "      <th>type_usager</th>\n",
       "      <td>1</td>\n",
       "      <td>3</td>\n",
       "    </tr>\n",
       "    <tr>\n",
       "      <th>sexe</th>\n",
       "      <td>1</td>\n",
       "      <td>2</td>\n",
       "    </tr>\n",
       "    <tr>\n",
       "      <th>an_nais</th>\n",
       "      <td>1900</td>\n",
       "      <td>2019</td>\n",
       "    </tr>\n",
       "    <tr>\n",
       "      <th>loc_pieton</th>\n",
       "      <td>1</td>\n",
       "      <td>IRLVT</td>\n",
       "    </tr>\n",
       "    <tr>\n",
       "      <th>manoeuvre_pieton</th>\n",
       "      <td>1</td>\n",
       "      <td>IRLVT</td>\n",
       "    </tr>\n",
       "    <tr>\n",
       "      <th>pieton_seul</th>\n",
       "      <td>1</td>\n",
       "      <td>IRLVT</td>\n",
       "    </tr>\n",
       "    <tr>\n",
       "      <th>grav</th>\n",
       "      <td>1</td>\n",
       "      <td>4</td>\n",
       "    </tr>\n",
       "  </tbody>\n",
       "</table>\n",
       "</div>"
      ],
      "text/plain": [
       "                                         victime_valeur_min  \\\n",
       "Num_Acc                                        201900000001   \n",
       "an                                                     2019   \n",
       "mois                                                      1   \n",
       "jour                                                      1   \n",
       "hrmn                                                  00:00   \n",
       "lum                                                       1   \n",
       "dep                                                      01   \n",
       "com                                                   01004   \n",
       "agglo                                                     1   \n",
       "intersection                                              2   \n",
       "meteo                                                     1   \n",
       "collision                                                 1   \n",
       "adr                                     (Bd FELIX mercarder   \n",
       "lat                                             -12,7156360   \n",
       "long                                             -0,0012150   \n",
       "type_route                                                1   \n",
       "voie                           Rue Edmond Locard              \n",
       "v1                                                      0.0   \n",
       "type_circu                                                1   \n",
       "nb_voies                                                  0   \n",
       "vosp                                                      1   \n",
       "declivite                                                 1   \n",
       "rectitude                                                 1   \n",
       "surface                                                   1   \n",
       "infrastructure                                            1   \n",
       "situ_acc                                                  1   \n",
       "vitesse_autorisee                                         0   \n",
       "id_vehicule                                     137 982 129   \n",
       "sens_circu                                                1   \n",
       "type_veh                                                  1   \n",
       "obst_fixe                                                 1   \n",
       "obst_mobile                                               1   \n",
       "choc                                                      1   \n",
       "manoeuvre_veh                                             1   \n",
       "num_veh                                                 A01   \n",
       "place_veh                                                 1   \n",
       "type_usager                                               1   \n",
       "sexe                                                      1   \n",
       "an_nais                                                1900   \n",
       "loc_pieton                                                1   \n",
       "manoeuvre_pieton                                          1   \n",
       "pieton_seul                                               1   \n",
       "grav                                                      1   \n",
       "\n",
       "                            victime_valeur_max  \n",
       "Num_Acc                           201900058840  \n",
       "an                                        2019  \n",
       "mois                                        12  \n",
       "jour                                        31  \n",
       "hrmn                                     23:59  \n",
       "lum                                          5  \n",
       "dep                                        988  \n",
       "com                                      98833  \n",
       "agglo                                        2  \n",
       "intersection                             IRLVT  \n",
       "meteo                                        9  \n",
       "collision                                IRLVT  \n",
       "adr                échangeur de la croix rouge  \n",
       "lat                                 63,5680660  \n",
       "long                                 9,5507480  \n",
       "type_route                                   9  \n",
       "voie                                        vc  \n",
       "v1                                         nan  \n",
       "type_circu                                   4  \n",
       "nb_voies                                    12  \n",
       "vosp                                     IRLVT  \n",
       "declivite                                    4  \n",
       "rectitude                                    4  \n",
       "surface                                      9  \n",
       "infrastructure                           IRLVT  \n",
       "situ_acc                                     8  \n",
       "vitesse_autorisee                          800  \n",
       "id_vehicule                        138 306 525  \n",
       "sens_circu                               IRLVT  \n",
       "type_veh                                    99  \n",
       "obst_fixe                                IRLVT  \n",
       "obst_mobile                              IRLVT  \n",
       "choc                                     IRLVT  \n",
       "manoeuvre_veh                                9  \n",
       "num_veh                                    Z01  \n",
       "place_veh                                    9  \n",
       "type_usager                                  3  \n",
       "sexe                                         2  \n",
       "an_nais                                   2019  \n",
       "loc_pieton                               IRLVT  \n",
       "manoeuvre_pieton                         IRLVT  \n",
       "pieton_seul                              IRLVT  \n",
       "grav                                         4  "
      ]
     },
     "execution_count": 49,
     "metadata": {},
     "output_type": "execute_result"
    }
   ],
   "source": [
    "victimeminmax = pd.DataFrame({'victime_valeur_min':victime.min(), 'victime_valeur_max':victime.max()})\n",
    "victimeminmax"
   ]
  },
  {
   "cell_type": "markdown",
   "metadata": {},
   "source": [
    "**Observations**\n",
    "\n",
    "En premier lieu, la colonne 'vitesse_autorisee', avec des bornes de 0 km/h et 800 km/h, comprend de toute évidence des valeurs aberrantes.\n",
    "Nous décidons de la winsoriser."
   ]
  },
  {
   "cell_type": "code",
   "execution_count": 50,
   "metadata": {},
   "outputs": [
    {
     "data": {
      "text/plain": [
       "<AxesSubplot:>"
      ]
     },
     "execution_count": 50,
     "metadata": {},
     "output_type": "execute_result"
    },
    {
     "data": {
      "image/png": "[encoded data removed]",
      "text/plain": [
       "<Figure size 432x288 with 1 Axes>"
      ]
     },
     "metadata": {
      "needs_background": "light"
     },
     "output_type": "display_data"
    }
   ],
   "source": [
    "victime.boxplot(column=['vitesse_autorisee'])"
   ]
  },
  {
   "cell_type": "code",
   "execution_count": 51,
   "metadata": {},
   "outputs": [],
   "source": [
    "upper = 130\n",
    "lower = 10\n",
    "victime.vitesse_autorisee = victime['vitesse_autorisee'].clip(lower, upper)"
   ]
  },
  {
   "cell_type": "code",
   "execution_count": 52,
   "metadata": {},
   "outputs": [
    {
     "data": {
      "text/plain": [
       "<AxesSubplot:>"
      ]
     },
     "execution_count": 52,
     "metadata": {},
     "output_type": "execute_result"
    },
    {
     "data": {
      "image/png": "[encoded data removed]",
      "text/plain": [
       "<Figure size 432x288 with 1 Axes>"
      ]
     },
     "metadata": {
      "needs_background": "light"
     },
     "output_type": "display_data"
    }
   ],
   "source": [
    "victime.boxplot(column=['vitesse_autorisee'])"
   ]
  },
  {
   "cell_type": "code",
   "execution_count": 53,
   "metadata": {},
   "outputs": [
    {
     "data": {
      "text/plain": [
       "dtype('float64')"
      ]
     },
     "execution_count": 53,
     "metadata": {},
     "output_type": "execute_result"
    }
   ],
   "source": [
    "victime.vitesse_autorisee.dtypes"
   ]
  },
  {
   "cell_type": "markdown",
   "metadata": {},
   "source": [
    "De même, l'année de naissance de la victime, qui commence à l'année 1900, est sans doute erronée. Nous décidons également de la winsoriser."
   ]
  },
  {
   "cell_type": "code",
   "execution_count": 54,
   "metadata": {},
   "outputs": [
    {
     "data": {
      "text/plain": [
       "<AxesSubplot:>"
      ]
     },
     "execution_count": 54,
     "metadata": {},
     "output_type": "execute_result"
    },
    {
     "data": {
      "image/png": "[encoded data removed]",
      "text/plain": [
       "<Figure size 432x288 with 1 Axes>"
      ]
     },
     "metadata": {
      "needs_background": "light"
     },
     "output_type": "display_data"
    }
   ],
   "source": [
    "victime.boxplot(column=['an_nais'])"
   ]
  },
  {
   "cell_type": "code",
   "execution_count": 55,
   "metadata": {},
   "outputs": [],
   "source": [
    "upper = 2019\n",
    "lower = 1909\n",
    "victime.an_nais = victime['an_nais'].clip(lower, upper)"
   ]
  },
  {
   "cell_type": "code",
   "execution_count": 56,
   "metadata": {},
   "outputs": [
    {
     "data": {
      "text/plain": [
       "<AxesSubplot:>"
      ]
     },
     "execution_count": 56,
     "metadata": {},
     "output_type": "execute_result"
    },
    {
     "data": {
      "image/png": "[encoded data removed]",
      "text/plain": [
       "<Figure size 432x288 with 1 Axes>"
      ]
     },
     "metadata": {
      "needs_background": "light"
     },
     "output_type": "display_data"
    }
   ],
   "source": [
    "victime.boxplot(column=['an_nais'])"
   ]
  },
  {
   "cell_type": "markdown",
   "metadata": {},
   "source": [
    "Sauvegardons le jeu de données nettoyé avant de l'adapter au machine learning."
   ]
  },
  {
   "cell_type": "code",
   "execution_count": 57,
   "metadata": {},
   "outputs": [
    {
     "data": {
      "text/plain": [
       "RangeIndex(start=0, stop=130901, step=1)"
      ]
     },
     "execution_count": 57,
     "metadata": {},
     "output_type": "execute_result"
    }
   ],
   "source": [
    "victime.reset_index(inplace=True, drop=True)\n",
    "victime.index"
   ]
  },
  {
   "cell_type": "code",
   "execution_count": 58,
   "metadata": {},
   "outputs": [],
   "source": [
    "victime.to_csv('../Final-Project/data/victime_clean.csv', index=False)"
   ]
  },
  {
   "cell_type": "code",
   "execution_count": null,
   "metadata": {},
   "outputs": [],
   "source": []
  },
  {
   "cell_type": "markdown",
   "metadata": {},
   "source": [
    "**Feature Selection**"
   ]
  },
  {
   "cell_type": "code",
   "execution_count": 59,
   "metadata": {},
   "outputs": [],
   "source": [
    "victml = victime.copy()"
   ]
  },
  {
   "cell_type": "code",
   "execution_count": 60,
   "metadata": {},
   "outputs": [
    {
     "data": {
      "text/plain": [
       "Num_Acc               object\n",
       "an                     int64\n",
       "mois                   int64\n",
       "jour                   int64\n",
       "hrmn                  object\n",
       "lum                   object\n",
       "dep                   object\n",
       "com                   object\n",
       "agglo                 object\n",
       "intersection          object\n",
       "meteo                 object\n",
       "collision             object\n",
       "adr                   object\n",
       "lat                   object\n",
       "long                  object\n",
       "type_route            object\n",
       "voie                  object\n",
       "v1                    object\n",
       "type_circu            object\n",
       "nb_voies             float64\n",
       "vosp                  object\n",
       "declivite             object\n",
       "rectitude             object\n",
       "surface               object\n",
       "infrastructure        object\n",
       "situ_acc              object\n",
       "vitesse_autorisee    float64\n",
       "id_vehicule           object\n",
       "sens_circu            object\n",
       "type_veh              object\n",
       "obst_fixe             object\n",
       "obst_mobile           object\n",
       "choc                  object\n",
       "manoeuvre_veh         object\n",
       "num_veh               object\n",
       "place_veh             object\n",
       "type_usager           object\n",
       "sexe                  object\n",
       "an_nais                int64\n",
       "loc_pieton            object\n",
       "manoeuvre_pieton      object\n",
       "pieton_seul           object\n",
       "grav                  object\n",
       "dtype: object"
      ]
     },
     "execution_count": 60,
     "metadata": {},
     "output_type": "execute_result"
    }
   ],
   "source": [
    "victml.dtypes"
   ]
  },
  {
   "cell_type": "code",
   "execution_count": 61,
   "metadata": {},
   "outputs": [],
   "source": [
    "victml.vitesse_autorisee = victml.vitesse_autorisee.astype('int64')\n",
    "victml.nb_voies = victml.nb_voies.astype('int64')"
   ]
  },
  {
   "cell_type": "markdown",
   "metadata": {},
   "source": [
    "**Etude de la nature des variables - Sélection de colonnes**\n",
    "\n",
    "Les variables suivantes ne nous paraissent pas de nature à influencer positivement la classification de la variable cible (non pertinence ou risque de surapprentissage/overfitting). Nous choisissons de les écarter : \n",
    "- l'année (toujours 2019),\n",
    "- l'année (toujours 2019) et le jour de l'accident (on garde le mois), \n",
    "- heure/min de l'accident (on garde l'éclairage), \n",
    "- adresse postale et le code postal de la commune (on garde le numéro de département et la distinction agglo/hors agglo),\n",
    "- le numéro de la route et son indice numérique,\n",
    "- l'existence d'une voie réservée, que l'accident s'y soit produit ou pas."
   ]
  },
  {
   "cell_type": "code",
   "execution_count": 62,
   "metadata": {},
   "outputs": [],
   "source": [
    "victml.drop(['an','jour','hrmn','adr','com','v1','voie'], axis=1, inplace=True, errors = 'ignore')"
   ]
  },
  {
   "cell_type": "code",
   "execution_count": 63,
   "metadata": {},
   "outputs": [
    {
     "data": {
      "text/plain": [
       "(130901, 36)"
      ]
     },
     "execution_count": 63,
     "metadata": {},
     "output_type": "execute_result"
    }
   ],
   "source": [
    "victml.shape"
   ]
  },
  {
   "cell_type": "code",
   "execution_count": 64,
   "metadata": {},
   "outputs": [
    {
     "data": {
      "text/plain": [
       "Index(['Num_Acc', 'mois', 'lum', 'dep', 'agglo', 'intersection', 'meteo',\n",
       "       'collision', 'lat', 'long', 'type_route', 'type_circu', 'nb_voies',\n",
       "       'vosp', 'declivite', 'rectitude', 'surface', 'infrastructure',\n",
       "       'situ_acc', 'vitesse_autorisee', 'id_vehicule', 'sens_circu',\n",
       "       'type_veh', 'obst_fixe', 'obst_mobile', 'choc', 'manoeuvre_veh',\n",
       "       'num_veh', 'place_veh', 'type_usager', 'sexe', 'an_nais', 'loc_pieton',\n",
       "       'manoeuvre_pieton', 'pieton_seul', 'grav'],\n",
       "      dtype='object')"
      ]
     },
     "execution_count": 64,
     "metadata": {},
     "output_type": "execute_result"
    }
   ],
   "source": [
    "victml.columns"
   ]
  },
  {
   "cell_type": "markdown",
   "metadata": {},
   "source": [
    "**Binning des valeurs de chaque variable**\n",
    "\n",
    "Etudions la proportion des valeurs au sein de chaque variable, et regroupons les valeurs moins fréquentes.\n",
    "On supprime les variables si l'une des valeurs représente au moins les 3/4 de l'effectif. "
   ]
  },
  {
   "cell_type": "code",
   "execution_count": 65,
   "metadata": {},
   "outputs": [],
   "source": [
    "def countplot(col):\n",
    "    sns.countplot(data = victml[victml[col]!='IRLVT'], x = col, order = list(victml.loc[victml[col]!='IRLVT',col].value_counts().index))"
   ]
  },
  {
   "cell_type": "code",
   "execution_count": 66,
   "metadata": {},
   "outputs": [],
   "source": [
    "def binning(c):\n",
    "    if victml[c].nunique()>1:\n",
    "        if (victml.loc[victml[c]!='IRLVT',c].value_counts()<1200).sum()!=0:\n",
    "            print(f'COLUMN TO BE BINNED.')\n",
    "            print(victml.loc[victml[c]!='IRLVT',c].value_counts())\n",
    "            if (c!='dep') and (c!='type_veh') and (c!='num_veh') and (c!='an_nais'):\n",
    "                countplot(c)\n",
    "        else:\n",
    "            print('BINNING FINE.')\n",
    "            if c!='dep':\n",
    "                countplot(c)\n",
    "        \n",
    "    else:\n",
    "        print('COLUMN TO BE DROPPED.')\n",
    "        countplot(c)"
   ]
  },
  {
   "cell_type": "code",
   "execution_count": 67,
   "metadata": {},
   "outputs": [
    {
     "name": "stdout",
     "output_type": "stream",
     "text": [
      "BINNING FINE.\n"
     ]
    },
    {
     "data": {
      "text/plain": [
       "<AxesSubplot:xlabel='mois', ylabel='count'>"
      ]
     },
     "execution_count": 67,
     "metadata": {},
     "output_type": "execute_result"
    },
    {
     "data": {
      "image/png": "[encoded data removed]",
      "text/plain": [
       "<Figure size 432x288 with 1 Axes>"
      ]
     },
     "metadata": {
      "needs_background": "light"
     },
     "output_type": "display_data"
    }
   ],
   "source": [
    "binning('mois')\n",
    "sns.countplot(data = victml[victml['mois']!='IRLVT'], x = 'mois')"
   ]
  },
  {
   "cell_type": "code",
   "execution_count": 68,
   "metadata": {},
   "outputs": [
    {
     "name": "stdout",
     "output_type": "stream",
     "text": [
      "BINNING FINE.\n"
     ]
    },
    {
     "data": {
      "image/png": "[encoded data removed]",
      "text/plain": [
       "<Figure size 432x288 with 1 Axes>"
      ]
     },
     "metadata": {
      "needs_background": "light"
     },
     "output_type": "display_data"
    }
   ],
   "source": [
    "binning('lum')"
   ]
  },
  {
   "cell_type": "code",
   "execution_count": 69,
   "metadata": {},
   "outputs": [
    {
     "name": "stdout",
     "output_type": "stream",
     "text": [
      "COLUMN TO BE BINNED.\n",
      "75     11811\n",
      "93      6995\n",
      "13      6948\n",
      "94      5961\n",
      "69      5691\n",
      "       ...  \n",
      "978       86\n",
      "39        54\n",
      "977       30\n",
      "986       21\n",
      "975        7\n",
      "Name: dep, Length: 107, dtype: int64\n"
     ]
    },
    {
     "data": {
      "image/png": "[encoded data removed]",
      "text/plain": [
       "<Figure size 1440x720 with 1 Axes>"
      ]
     },
     "metadata": {
      "needs_background": "light"
     },
     "output_type": "display_data"
    }
   ],
   "source": [
    "binning('dep')\n",
    "plt.figure(figsize=(20, 10))\n",
    "plt.xticks(rotation='45')\n",
    "countplot('dep')"
   ]
  },
  {
   "cell_type": "code",
   "execution_count": 70,
   "metadata": {},
   "outputs": [
    {
     "data": {
      "image/png": "[encoded data removed]",
      "text/plain": [
       "<Figure size 432x288 with 1 Axes>"
      ]
     },
     "metadata": {
      "needs_background": "light"
     },
     "output_type": "display_data"
    }
   ],
   "source": [
    "victml.dep.replace(['75','77','78','91','92','93','94','95'], value =\"Ile de france\", inplace=True)\n",
    "victml.dep.replace(['44','49','53','72','85','18','28','36','37','41','45','14','50','61','27','76','22','29','35','56'], value= \"Nord-Ouest\", inplace=True)\n",
    "victml.dep.replace(['08','10','51','52','59','62','80','02','60','54','55','57','88','21','58','71','89','67','68','25','39','70','90'], value = \"Nord Est\", inplace=True)\n",
    "victml.dep.replace(['11','30','34','48','66','04','06','13','05','83','84','03','15','43','63','01','07','26','38','42','69','73','74','2A','2B'], value = \"Sud Est\", inplace=True)\n",
    "victml.dep.replace(['09', '12','32','31','65','46','81','82','16','17','79','86','19', '23','87', '24','33','40','47','64','971','972','973','974','975','976','977','978','986','987','988'], value = \"Sud Ouest\", inplace=True)\n",
    "plt.xticks(rotation='45')\n",
    "countplot('dep')"
   ]
  },
  {
   "cell_type": "code",
   "execution_count": 71,
   "metadata": {},
   "outputs": [
    {
     "name": "stdout",
     "output_type": "stream",
     "text": [
      "BINNING FINE.\n"
     ]
    },
    {
     "data": {
      "image/png": "[encoded data removed]",
      "text/plain": [
       "<Figure size 432x288 with 1 Axes>"
      ]
     },
     "metadata": {
      "needs_background": "light"
     },
     "output_type": "display_data"
    }
   ],
   "source": [
    "binning('agglo')"
   ]
  },
  {
   "cell_type": "code",
   "execution_count": 72,
   "metadata": {},
   "outputs": [
    {
     "name": "stdout",
     "output_type": "stream",
     "text": [
      "COLUMN TO BE BINNED.\n",
      "2    16354\n",
      "3    13614\n",
      "9     5769\n",
      "6     4457\n",
      "4     2816\n",
      "7     1474\n",
      "5      677\n",
      "8      134\n",
      "Name: intersection, dtype: int64\n"
     ]
    },
    {
     "data": {
      "image/png": "[encoded data removed]",
      "text/plain": [
       "<Figure size 432x288 with 1 Axes>"
      ]
     },
     "metadata": {
      "needs_background": "light"
     },
     "output_type": "display_data"
    }
   ],
   "source": [
    "binning('intersection')"
   ]
  },
  {
   "cell_type": "code",
   "execution_count": 73,
   "metadata": {},
   "outputs": [
    {
     "data": {
      "image/png": "[encoded data removed]",
      "text/plain": [
       "<Figure size 432x288 with 1 Axes>"
      ]
     },
     "metadata": {
      "needs_background": "light"
     },
     "output_type": "display_data"
    }
   ],
   "source": [
    "victml.intersection.replace(['5','8'],'autre', inplace=True)\n",
    "countplot('intersection')"
   ]
  },
  {
   "cell_type": "code",
   "execution_count": 74,
   "metadata": {},
   "outputs": [
    {
     "name": "stdout",
     "output_type": "stream",
     "text": [
      "COLUMN TO BE BINNED.\n",
      "1    103710\n",
      "2     14565\n",
      "8      4863\n",
      "3      3186\n",
      "7      2267\n",
      "5       707\n",
      "9       642\n",
      "4       600\n",
      "6       361\n",
      "Name: meteo, dtype: int64\n"
     ]
    },
    {
     "data": {
      "image/png": "[encoded data removed]",
      "text/plain": [
       "<Figure size 432x288 with 1 Axes>"
      ]
     },
     "metadata": {
      "needs_background": "light"
     },
     "output_type": "display_data"
    }
   ],
   "source": [
    "binning('meteo')"
   ]
  },
  {
   "cell_type": "code",
   "execution_count": 75,
   "metadata": {},
   "outputs": [
    {
     "data": {
      "image/png": "[encoded data removed]",
      "text/plain": [
       "<Figure size 432x288 with 1 Axes>"
      ]
     },
     "metadata": {
      "needs_background": "light"
     },
     "output_type": "display_data"
    }
   ],
   "source": [
    "victml.meteo.replace(['6','9','5','4'],'Autre', inplace=True)\n",
    "countplot('meteo')"
   ]
  },
  {
   "cell_type": "code",
   "execution_count": 76,
   "metadata": {},
   "outputs": [
    {
     "name": "stdout",
     "output_type": "stream",
     "text": [
      "BINNING FINE.\n"
     ]
    },
    {
     "data": {
      "image/png": "[encoded data removed]",
      "text/plain": [
       "<Figure size 432x288 with 1 Axes>"
      ]
     },
     "metadata": {
      "needs_background": "light"
     },
     "output_type": "display_data"
    }
   ],
   "source": [
    "binning('collision')"
   ]
  },
  {
   "cell_type": "code",
   "execution_count": 77,
   "metadata": {},
   "outputs": [
    {
     "name": "stdout",
     "output_type": "stream",
     "text": [
      "COLUMN TO BE BINNED.\n",
      "4    54514\n",
      "3    46190\n",
      "1    15659\n",
      "2     9428\n",
      "7     2899\n",
      "9     1183\n",
      "6      881\n",
      "5      147\n",
      "Name: type_route, dtype: int64\n"
     ]
    },
    {
     "data": {
      "image/png": "[encoded data removed]",
      "text/plain": [
       "<Figure size 432x288 with 1 Axes>"
      ]
     },
     "metadata": {
      "needs_background": "light"
     },
     "output_type": "display_data"
    }
   ],
   "source": [
    "binning('type_route')"
   ]
  },
  {
   "cell_type": "code",
   "execution_count": 78,
   "metadata": {},
   "outputs": [
    {
     "name": "stdout",
     "output_type": "stream",
     "text": [
      "COLUMN TO BE BINNED.\n",
      "2    86080\n",
      "1    22825\n",
      "3    21172\n",
      "4      824\n",
      "Name: type_circu, dtype: int64\n"
     ]
    },
    {
     "data": {
      "image/png": "[encoded data removed]",
      "text/plain": [
       "<Figure size 432x288 with 1 Axes>"
      ]
     },
     "metadata": {
      "needs_background": "light"
     },
     "output_type": "display_data"
    }
   ],
   "source": [
    "binning('type_circu')"
   ]
  },
  {
   "cell_type": "code",
   "execution_count": 79,
   "metadata": {},
   "outputs": [
    {
     "data": {
      "image/png": "[encoded data removed]",
      "text/plain": [
       "<Figure size 432x288 with 1 Axes>"
      ]
     },
     "metadata": {
      "needs_background": "light"
     },
     "output_type": "display_data"
    }
   ],
   "source": [
    "victml.type_route.replace(['5','6','9'],'autre', inplace=True)\n",
    "countplot('type_route')"
   ]
  },
  {
   "cell_type": "code",
   "execution_count": 80,
   "metadata": {},
   "outputs": [
    {
     "name": "stdout",
     "output_type": "stream",
     "text": [
      "BINNING FINE.\n"
     ]
    },
    {
     "data": {
      "image/png": "[encoded data removed]",
      "text/plain": [
       "<Figure size 432x288 with 1 Axes>"
      ]
     },
     "metadata": {
      "needs_background": "light"
     },
     "output_type": "display_data"
    }
   ],
   "source": [
    "binning('declivite')"
   ]
  },
  {
   "cell_type": "code",
   "execution_count": 81,
   "metadata": {},
   "outputs": [
    {
     "name": "stdout",
     "output_type": "stream",
     "text": [
      "BINNING FINE.\n"
     ]
    },
    {
     "data": {
      "image/png": "[encoded data removed]",
      "text/plain": [
       "<Figure size 432x288 with 1 Axes>"
      ]
     },
     "metadata": {
      "needs_background": "light"
     },
     "output_type": "display_data"
    }
   ],
   "source": [
    "binning('rectitude')"
   ]
  },
  {
   "cell_type": "code",
   "execution_count": 82,
   "metadata": {},
   "outputs": [
    {
     "name": "stdout",
     "output_type": "stream",
     "text": [
      "COLUMN TO BE BINNED.\n",
      "1    104772\n",
      "2     24326\n",
      "9       604\n",
      "7       426\n",
      "5       243\n",
      "3       235\n",
      "8       196\n",
      "6        58\n",
      "4        41\n",
      "Name: surface, dtype: int64\n"
     ]
    },
    {
     "data": {
      "image/png": "[encoded data removed]",
      "text/plain": [
       "<Figure size 432x288 with 1 Axes>"
      ]
     },
     "metadata": {
      "needs_background": "light"
     },
     "output_type": "display_data"
    }
   ],
   "source": [
    "binning('surface')"
   ]
  },
  {
   "cell_type": "code",
   "execution_count": 83,
   "metadata": {},
   "outputs": [
    {
     "data": {
      "image/png": "[encoded data removed]",
      "text/plain": [
       "<Figure size 432x288 with 1 Axes>"
      ]
     },
     "metadata": {
      "needs_background": "light"
     },
     "output_type": "display_data"
    }
   ],
   "source": [
    "victml.surface.replace(['3','4','5','6','7','8','9'],'autre', inplace=True)\n",
    "countplot('surface')"
   ]
  },
  {
   "cell_type": "code",
   "execution_count": 84,
   "metadata": {},
   "outputs": [
    {
     "name": "stdout",
     "output_type": "stream",
     "text": [
      "COLUMN TO BE BINNED.\n",
      "5    7797\n",
      "9    4807\n",
      "2    2641\n",
      "3    2054\n",
      "1    1794\n",
      "8    1128\n",
      "6    1126\n",
      "4     540\n",
      "7      99\n",
      "Name: infrastructure, dtype: int64\n"
     ]
    },
    {
     "data": {
      "image/png": "[encoded data removed]",
      "text/plain": [
       "<Figure size 432x288 with 1 Axes>"
      ]
     },
     "metadata": {
      "needs_background": "light"
     },
     "output_type": "display_data"
    }
   ],
   "source": [
    "binning('infrastructure')"
   ]
  },
  {
   "cell_type": "code",
   "execution_count": 85,
   "metadata": {},
   "outputs": [
    {
     "data": {
      "image/png": "[encoded data removed]",
      "text/plain": [
       "<Figure size 432x288 with 1 Axes>"
      ]
     },
     "metadata": {
      "needs_background": "light"
     },
     "output_type": "display_data"
    }
   ],
   "source": [
    "victml.infrastructure.replace(['4''6','7','8'],'autre', inplace=True)\n",
    "countplot('surface')"
   ]
  },
  {
   "cell_type": "code",
   "execution_count": 86,
   "metadata": {},
   "outputs": [
    {
     "name": "stdout",
     "output_type": "stream",
     "text": [
      "COLUMN TO BE BINNED.\n",
      "1    116443\n",
      "3      7371\n",
      "8      2010\n",
      "2      1989\n",
      "4      1174\n",
      "5      1022\n",
      "6       892\n",
      "Name: situ_acc, dtype: int64\n"
     ]
    },
    {
     "data": {
      "image/png": "[encoded data removed]",
      "text/plain": [
       "<Figure size 432x288 with 1 Axes>"
      ]
     },
     "metadata": {
      "needs_background": "light"
     },
     "output_type": "display_data"
    }
   ],
   "source": [
    "binning('situ_acc')"
   ]
  },
  {
   "cell_type": "code",
   "execution_count": 87,
   "metadata": {},
   "outputs": [
    {
     "data": {
      "image/png": "[encoded data removed]",
      "text/plain": [
       "<Figure size 432x288 with 1 Axes>"
      ]
     },
     "metadata": {
      "needs_background": "light"
     },
     "output_type": "display_data"
    }
   ],
   "source": [
    "victml.situ_acc.replace(['4','5','6'], 'autre', inplace=True)\n",
    "countplot('situ_acc')"
   ]
  },
  {
   "cell_type": "code",
   "execution_count": 88,
   "metadata": {},
   "outputs": [
    {
     "name": "stdout",
     "output_type": "stream",
     "text": [
      "BINNING FINE.\n"
     ]
    },
    {
     "data": {
      "image/png": "[encoded data removed]",
      "text/plain": [
       "<Figure size 432x288 with 1 Axes>"
      ]
     },
     "metadata": {
      "needs_background": "light"
     },
     "output_type": "display_data"
    }
   ],
   "source": [
    "binning('sens_circu')"
   ]
  },
  {
   "cell_type": "code",
   "execution_count": 89,
   "metadata": {},
   "outputs": [
    {
     "name": "stdout",
     "output_type": "stream",
     "text": [
      "COLUMN TO BE BINNED.\n",
      "7     84052\n",
      "33     9144\n",
      "10     8667\n",
      "1      5198\n",
      "2      4228\n",
      "30     3587\n",
      "32     2800\n",
      "31     2101\n",
      "34     1586\n",
      "37     1322\n",
      "3      1174\n",
      "15     1022\n",
      "14      894\n",
      "17      844\n",
      "50      715\n",
      "43      558\n",
      "99      532\n",
      "38      511\n",
      "13      478\n",
      "21      263\n",
      "80      261\n",
      "20      248\n",
      "36      199\n",
      "40      196\n",
      "60      141\n",
      "39       58\n",
      "16       43\n",
      "42       40\n",
      "35       26\n",
      "41       13\n",
      "Name: type_veh, dtype: int64\n"
     ]
    },
    {
     "data": {
      "image/png": "[encoded data removed]",
      "text/plain": [
       "<Figure size 1080x360 with 1 Axes>"
      ]
     },
     "metadata": {
      "needs_background": "light"
     },
     "output_type": "display_data"
    }
   ],
   "source": [
    "binning('type_veh')\n",
    "plt.figure(figsize=(15, 5))\n",
    "countplot('type_veh')"
   ]
  },
  {
   "cell_type": "code",
   "execution_count": 90,
   "metadata": {},
   "outputs": [
    {
     "data": {
      "image/png": "[encoded data removed]",
      "text/plain": [
       "<Figure size 1080x360 with 1 Axes>"
      ]
     },
     "metadata": {
      "needs_background": "light"
     },
     "output_type": "display_data"
    }
   ],
   "source": [
    "victml.type_veh.replace(['3','15','14','17','50','43','99','38','13','21','80','20','36','40','60','39','16','42','35','41'],'autre', inplace=True)\n",
    "plt.figure(figsize=(15, 5))\n",
    "countplot('type_veh')"
   ]
  },
  {
   "cell_type": "code",
   "execution_count": 91,
   "metadata": {},
   "outputs": [
    {
     "name": "stdout",
     "output_type": "stream",
     "text": [
      "COLUMN TO BE BINNED.\n",
      "1     3028\n",
      "13    2704\n",
      "2     2213\n",
      "3     2093\n",
      "4     2004\n",
      "6     1699\n",
      "8     1628\n",
      "14    1019\n",
      "12     987\n",
      "15     801\n",
      "9      623\n",
      "16     583\n",
      "7      433\n",
      "11     285\n",
      "17     228\n",
      "5      227\n",
      "10     185\n",
      "Name: obst_fixe, dtype: int64\n"
     ]
    },
    {
     "data": {
      "image/png": "[encoded data removed]",
      "text/plain": [
       "<Figure size 432x288 with 1 Axes>"
      ]
     },
     "metadata": {
      "needs_background": "light"
     },
     "output_type": "display_data"
    }
   ],
   "source": [
    "binning('obst_fixe')"
   ]
  },
  {
   "cell_type": "code",
   "execution_count": 92,
   "metadata": {},
   "outputs": [
    {
     "data": {
      "image/png": "[encoded data removed]",
      "text/plain": [
       "<Figure size 432x288 with 1 Axes>"
      ]
     },
     "metadata": {
      "needs_background": "light"
     },
     "output_type": "display_data"
    }
   ],
   "source": [
    "victml.obst_fixe.replace(['14','12','15','9','16','7','11','17','5','10'],'autre', inplace=True)\n",
    "countplot('obst_fixe')"
   ]
  },
  {
   "cell_type": "code",
   "execution_count": 93,
   "metadata": {},
   "outputs": [
    {
     "name": "stdout",
     "output_type": "stream",
     "text": [
      "COLUMN TO BE BINNED.\n",
      "2    84013\n",
      "1    20170\n",
      "9      985\n",
      "6      797\n",
      "4       96\n",
      "5       73\n",
      "Name: obst_mobile, dtype: int64\n"
     ]
    },
    {
     "data": {
      "image/png": "[encoded data removed]",
      "text/plain": [
       "<Figure size 432x288 with 1 Axes>"
      ]
     },
     "metadata": {
      "needs_background": "light"
     },
     "output_type": "display_data"
    }
   ],
   "source": [
    "binning('obst_mobile')"
   ]
  },
  {
   "cell_type": "code",
   "execution_count": 94,
   "metadata": {},
   "outputs": [
    {
     "data": {
      "image/png": "[encoded data removed]",
      "text/plain": [
       "<Figure size 432x288 with 1 Axes>"
      ]
     },
     "metadata": {
      "needs_background": "light"
     },
     "output_type": "display_data"
    }
   ],
   "source": [
    "victml.obst_mobile.replace(['4','5','6','9'],'autre', inplace=True)\n",
    "countplot('obst_mobile')"
   ]
  },
  {
   "cell_type": "code",
   "execution_count": 95,
   "metadata": {},
   "outputs": [
    {
     "name": "stdout",
     "output_type": "stream",
     "text": [
      "BINNING FINE.\n"
     ]
    },
    {
     "data": {
      "image/png": "[encoded data removed]",
      "text/plain": [
       "<Figure size 432x288 with 1 Axes>"
      ]
     },
     "metadata": {
      "needs_background": "light"
     },
     "output_type": "display_data"
    }
   ],
   "source": [
    "binning('choc')"
   ]
  },
  {
   "cell_type": "code",
   "execution_count": 96,
   "metadata": {},
   "outputs": [
    {
     "name": "stdout",
     "output_type": "stream",
     "text": [
      "COLUMN TO BE BINNED.\n",
      "1     62054\n",
      "2     14634\n",
      "15    10366\n",
      "13     5736\n",
      "26     4770\n",
      "17     4426\n",
      "23     3610\n",
      "9      3569\n",
      "16     3415\n",
      "19     3108\n",
      "14     2862\n",
      "21     2125\n",
      "11     1370\n",
      "5      1289\n",
      "12     1278\n",
      "3      1261\n",
      "10      871\n",
      "20      862\n",
      "4       845\n",
      "18      652\n",
      "24      508\n",
      "22      399\n",
      "25      325\n",
      "7       321\n",
      "6       196\n",
      "8        49\n",
      "Name: manoeuvre_veh, dtype: int64\n"
     ]
    },
    {
     "data": {
      "image/png": "[encoded data removed]",
      "text/plain": [
       "<Figure size 432x288 with 1 Axes>"
      ]
     },
     "metadata": {
      "needs_background": "light"
     },
     "output_type": "display_data"
    }
   ],
   "source": [
    "binning('manoeuvre_veh')"
   ]
  },
  {
   "cell_type": "code",
   "execution_count": 97,
   "metadata": {},
   "outputs": [
    {
     "data": {
      "image/png": "[encoded data removed]",
      "text/plain": [
       "<Figure size 720x360 with 1 Axes>"
      ]
     },
     "metadata": {
      "needs_background": "light"
     },
     "output_type": "display_data"
    }
   ],
   "source": [
    "victml.manoeuvre_veh.replace(['10','20','4','18','24','22','25','6','7','8'],'autre', inplace=True)\n",
    "plt.figure(figsize=(10, 5))\n",
    "plt.xticks(rotation=45)\n",
    "countplot('manoeuvre_veh')"
   ]
  },
  {
   "cell_type": "code",
   "execution_count": 98,
   "metadata": {},
   "outputs": [
    {
     "name": "stdout",
     "output_type": "stream",
     "text": [
      "COLUMN TO BE BINNED.\n",
      "A01    79110\n",
      "B01    43848\n",
      "C01     5396\n",
      "D01     1184\n",
      "Z01      760\n",
      "E01      287\n",
      "F01      108\n",
      "Y01       48\n",
      "G01       47\n",
      "H01       22\n",
      "T01       17\n",
      "I01       16\n",
      "M01       11\n",
      "K01       10\n",
      "J01        8\n",
      "L01        7\n",
      "W01        4\n",
      "X01        4\n",
      "Q01        4\n",
      "O01        3\n",
      "N01        3\n",
      "U01        2\n",
      "P01        1\n",
      "V01        1\n",
      "Name: num_veh, dtype: int64\n"
     ]
    },
    {
     "data": {
      "image/png": "[encoded data removed]",
      "text/plain": [
       "<Figure size 720x360 with 1 Axes>"
      ]
     },
     "metadata": {
      "needs_background": "light"
     },
     "output_type": "display_data"
    }
   ],
   "source": [
    "binning('num_veh')\n",
    "plt.figure(figsize=(10, 5))\n",
    "plt.xticks(rotation=45)\n",
    "countplot('num_veh')"
   ]
  },
  {
   "cell_type": "code",
   "execution_count": 99,
   "metadata": {},
   "outputs": [
    {
     "data": {
      "image/png": "[encoded data removed]",
      "text/plain": [
       "<Figure size 432x288 with 1 Axes>"
      ]
     },
     "metadata": {
      "needs_background": "light"
     },
     "output_type": "display_data"
    }
   ],
   "source": [
    "victml.num_veh.replace(['E01','F01','G01','H01','I01','J01','K01','L01','M01','N01','O01','P01','Q01','T01','U01','V01','W01','X01','Y01','Z01'],'autre', inplace=True)\n",
    "countplot('num_veh')"
   ]
  },
  {
   "cell_type": "code",
   "execution_count": 100,
   "metadata": {},
   "outputs": [
    {
     "name": "stdout",
     "output_type": "stream",
     "text": [
      "COLUMN TO BE BINNED.\n",
      "1     95846\n",
      "2     15280\n",
      "10    10645\n",
      "3      2502\n",
      "4      2271\n",
      "9      1505\n",
      "7      1330\n",
      "5       750\n",
      "8       603\n",
      "6       169\n",
      "Name: place_veh, dtype: int64\n"
     ]
    },
    {
     "data": {
      "image/png": "[encoded data removed]",
      "text/plain": [
       "<Figure size 432x288 with 1 Axes>"
      ]
     },
     "metadata": {
      "needs_background": "light"
     },
     "output_type": "display_data"
    }
   ],
   "source": [
    "binning('place_veh')"
   ]
  },
  {
   "cell_type": "code",
   "execution_count": 101,
   "metadata": {},
   "outputs": [
    {
     "data": {
      "image/png": "[encoded data removed]",
      "text/plain": [
       "<Figure size 432x288 with 1 Axes>"
      ]
     },
     "metadata": {
      "needs_background": "light"
     },
     "output_type": "display_data"
    }
   ],
   "source": [
    "victml.place_veh.replace(['5','6','8'],'autre', inplace=True)\n",
    "countplot('place_veh')"
   ]
  },
  {
   "cell_type": "code",
   "execution_count": 102,
   "metadata": {},
   "outputs": [
    {
     "name": "stdout",
     "output_type": "stream",
     "text": [
      "BINNING FINE.\n"
     ]
    },
    {
     "data": {
      "image/png": "[encoded data removed]",
      "text/plain": [
       "<Figure size 432x288 with 1 Axes>"
      ]
     },
     "metadata": {
      "needs_background": "light"
     },
     "output_type": "display_data"
    }
   ],
   "source": [
    "binning('type_usager')"
   ]
  },
  {
   "cell_type": "code",
   "execution_count": 103,
   "metadata": {},
   "outputs": [
    {
     "name": "stdout",
     "output_type": "stream",
     "text": [
      "BINNING FINE.\n"
     ]
    },
    {
     "data": {
      "image/png": "[encoded data removed]",
      "text/plain": [
       "<Figure size 432x288 with 1 Axes>"
      ]
     },
     "metadata": {
      "needs_background": "light"
     },
     "output_type": "display_data"
    }
   ],
   "source": [
    "binning('sexe')"
   ]
  },
  {
   "cell_type": "code",
   "execution_count": 104,
   "metadata": {},
   "outputs": [
    {
     "data": {
      "text/plain": [
       "0"
      ]
     },
     "execution_count": 104,
     "metadata": {},
     "output_type": "execute_result"
    }
   ],
   "source": [
    "victml.an_nais.isna().sum()"
   ]
  },
  {
   "cell_type": "code",
   "execution_count": 105,
   "metadata": {},
   "outputs": [
    {
     "data": {
      "text/plain": [
       "1909"
      ]
     },
     "execution_count": 105,
     "metadata": {},
     "output_type": "execute_result"
    }
   ],
   "source": [
    "victime.an_nais.min()"
   ]
  },
  {
   "cell_type": "code",
   "execution_count": 106,
   "metadata": {},
   "outputs": [
    {
     "data": {
      "text/plain": [
       "2019"
      ]
     },
     "execution_count": 106,
     "metadata": {},
     "output_type": "execute_result"
    }
   ],
   "source": [
    "victime.an_nais.max()"
   ]
  },
  {
   "cell_type": "code",
   "execution_count": 107,
   "metadata": {},
   "outputs": [
    {
     "name": "stdout",
     "output_type": "stream",
     "text": [
      "COLUMN TO BE BINNED.\n",
      "2000    3766\n",
      "1999    3646\n",
      "1998    3562\n",
      "1997    3491\n",
      "1996    3432\n",
      "        ... \n",
      "1922      15\n",
      "1921       5\n",
      "1920       5\n",
      "1919       3\n",
      "1911       1\n",
      "Name: an_nais, Length: 103, dtype: int64\n"
     ]
    },
    {
     "data": {
      "image/png": "[encoded data removed]",
      "text/plain": [
       "<Figure size 1080x360 with 1 Axes>"
      ]
     },
     "metadata": {
      "needs_background": "light"
     },
     "output_type": "display_data"
    }
   ],
   "source": [
    "binning('an_nais')\n",
    "plt.figure(figsize=(15, 5))\n",
    "plt.xticks(rotation=60)\n",
    "countplot('an_nais')"
   ]
  },
  {
   "cell_type": "code",
   "execution_count": 108,
   "metadata": {},
   "outputs": [
    {
     "data": {
      "text/plain": [
       "1909"
      ]
     },
     "execution_count": 108,
     "metadata": {},
     "output_type": "execute_result"
    }
   ],
   "source": [
    "victml.an_nais.min()"
   ]
  },
  {
   "cell_type": "code",
   "execution_count": 109,
   "metadata": {},
   "outputs": [
    {
     "data": {
      "text/plain": [
       "2019"
      ]
     },
     "execution_count": 109,
     "metadata": {},
     "output_type": "execute_result"
    }
   ],
   "source": [
    "victml.an_nais.max()"
   ]
  },
  {
   "cell_type": "code",
   "execution_count": 110,
   "metadata": {},
   "outputs": [
    {
     "data": {
      "text/plain": [
       "130901"
      ]
     },
     "execution_count": 110,
     "metadata": {},
     "output_type": "execute_result"
    }
   ],
   "source": [
    "len(victml.an_nais)"
   ]
  },
  {
   "cell_type": "code",
   "execution_count": 111,
   "metadata": {},
   "outputs": [
    {
     "data": {
      "image/png": "[encoded data removed]",
      "text/plain": [
       "<Figure size 432x288 with 1 Axes>"
      ]
     },
     "metadata": {
      "needs_background": "light"
     },
     "output_type": "display_data"
    }
   ],
   "source": [
    "#on regroupe en 3 classes d'âge.\n",
    "victml['an_nais'] = pd.cut(victml['an_nais'], [1900,1944,1984,2019], right=True, labels=['75 ans et +','36-75 ans','Moins de 35 ans'])\n",
    "countplot('an_nais')"
   ]
  },
  {
   "cell_type": "code",
   "execution_count": 112,
   "metadata": {},
   "outputs": [
    {
     "data": {
      "text/plain": [
       "0"
      ]
     },
     "execution_count": 112,
     "metadata": {},
     "output_type": "execute_result"
    }
   ],
   "source": [
    "victml.an_nais.isna().sum()"
   ]
  },
  {
   "cell_type": "code",
   "execution_count": 113,
   "metadata": {},
   "outputs": [
    {
     "name": "stdout",
     "output_type": "stream",
     "text": [
      "COLUMN TO BE BINNED.\n",
      "3    3330\n",
      "2    2426\n",
      "4    1608\n",
      "1    1546\n",
      "5     751\n",
      "9     516\n",
      "6     287\n",
      "8     166\n",
      "7      15\n",
      "Name: loc_pieton, dtype: int64\n"
     ]
    },
    {
     "data": {
      "image/png": "[encoded data removed]",
      "text/plain": [
       "<Figure size 432x288 with 1 Axes>"
      ]
     },
     "metadata": {
      "needs_background": "light"
     },
     "output_type": "display_data"
    }
   ],
   "source": [
    "binning('loc_pieton')"
   ]
  },
  {
   "cell_type": "code",
   "execution_count": 114,
   "metadata": {},
   "outputs": [
    {
     "data": {
      "image/png": "[encoded data removed]",
      "text/plain": [
       "<Figure size 432x288 with 1 Axes>"
      ]
     },
     "metadata": {
      "needs_background": "light"
     },
     "output_type": "display_data"
    }
   ],
   "source": [
    "victml.loc_pieton.replace(['5','9','6','8','7'],'autre', inplace=True)\n",
    "countplot('loc_pieton')"
   ]
  },
  {
   "cell_type": "code",
   "execution_count": 115,
   "metadata": {},
   "outputs": [
    {
     "name": "stdout",
     "output_type": "stream",
     "text": [
      "COLUMN TO BE BINNED.\n",
      "3    7934\n",
      "9     673\n",
      "1     645\n",
      "5     443\n",
      "B     369\n",
      "2     297\n",
      "4     159\n",
      "A      97\n",
      "6      28\n",
      "Name: manoeuvre_pieton, dtype: int64\n",
      "Une valeur prédomine de façon écrasante. On supprime la colonne.\n"
     ]
    },
    {
     "data": {
      "image/png": "[encoded data removed]",
      "text/plain": [
       "<Figure size 432x288 with 1 Axes>"
      ]
     },
     "metadata": {
      "needs_background": "light"
     },
     "output_type": "display_data"
    }
   ],
   "source": [
    "victml.loc[(victml.manoeuvre_pieton=='7')|(victml.manoeuvre_pieton=='8'),'manoeuvre_pieton']='9'\n",
    "binning('manoeuvre_pieton')\n",
    "print(\"Une valeur prédomine de façon écrasante. On supprime la colonne.\")\n",
    "victml.drop('manoeuvre_pieton', axis=1, inplace=True)"
   ]
  },
  {
   "cell_type": "code",
   "execution_count": 116,
   "metadata": {},
   "outputs": [
    {
     "name": "stdout",
     "output_type": "stream",
     "text": [
      "COLUMN TO BE BINNED.\n",
      "1    8080\n",
      "2    2142\n",
      "3     423\n",
      "Name: pieton_seul, dtype: int64\n"
     ]
    },
    {
     "data": {
      "image/png": "[encoded data removed]",
      "text/plain": [
       "<Figure size 432x288 with 1 Axes>"
      ]
     },
     "metadata": {
      "needs_background": "light"
     },
     "output_type": "display_data"
    }
   ],
   "source": [
    "binning('pieton_seul')"
   ]
  },
  {
   "cell_type": "code",
   "execution_count": 117,
   "metadata": {},
   "outputs": [
    {
     "name": "stdout",
     "output_type": "stream",
     "text": [
      "BINNING FINE.\n"
     ]
    },
    {
     "data": {
      "image/png": "[encoded data removed]",
      "text/plain": [
       "<Figure size 432x288 with 1 Axes>"
      ]
     },
     "metadata": {
      "needs_background": "light"
     },
     "output_type": "display_data"
    }
   ],
   "source": [
    "binning('grav')"
   ]
  },
  {
   "cell_type": "markdown",
   "metadata": {},
   "source": [
    "On choisit de regrouper les classes."
   ]
  },
  {
   "cell_type": "code",
   "execution_count": 118,
   "metadata": {},
   "outputs": [
    {
     "data": {
      "image/png": "[encoded data removed]",
      "text/plain": [
       "<Figure size 432x288 with 1 Axes>"
      ]
     },
     "metadata": {
      "needs_background": "light"
     },
     "output_type": "display_data"
    }
   ],
   "source": [
    "victml.grav.replace(['1','4'],'Indemne ou Blessé Léger', inplace=True)\n",
    "victml.grav.replace(['2','3'],'Blessé Grave ou Tué', inplace=True)\n",
    "countplot('grav')"
   ]
  },
  {
   "cell_type": "markdown",
   "metadata": {},
   "source": [
    "**Taille du dataset**\n",
    "\n",
    "Notre jeu de données a désormais la forme suivante."
   ]
  },
  {
   "cell_type": "code",
   "execution_count": 119,
   "metadata": {},
   "outputs": [
    {
     "data": {
      "text/plain": [
       "(130901, 35)"
      ]
     },
     "execution_count": 119,
     "metadata": {},
     "output_type": "execute_result"
    }
   ],
   "source": [
    "victml.shape"
   ]
  },
  {
   "cell_type": "code",
   "execution_count": 120,
   "metadata": {},
   "outputs": [
    {
     "data": {
      "text/plain": [
       "Num_Acc                object\n",
       "mois                    int64\n",
       "lum                    object\n",
       "dep                    object\n",
       "agglo                  object\n",
       "intersection           object\n",
       "meteo                  object\n",
       "collision              object\n",
       "lat                    object\n",
       "long                   object\n",
       "type_route             object\n",
       "type_circu             object\n",
       "nb_voies                int64\n",
       "vosp                   object\n",
       "declivite              object\n",
       "rectitude              object\n",
       "surface                object\n",
       "infrastructure         object\n",
       "situ_acc               object\n",
       "vitesse_autorisee       int64\n",
       "id_vehicule            object\n",
       "sens_circu             object\n",
       "type_veh               object\n",
       "obst_fixe              object\n",
       "obst_mobile            object\n",
       "choc                   object\n",
       "manoeuvre_veh          object\n",
       "num_veh                object\n",
       "place_veh              object\n",
       "type_usager            object\n",
       "sexe                   object\n",
       "an_nais              category\n",
       "loc_pieton             object\n",
       "pieton_seul            object\n",
       "grav                   object\n",
       "dtype: object"
      ]
     },
     "execution_count": 120,
     "metadata": {},
     "output_type": "execute_result"
    }
   ],
   "source": [
    "victml.dtypes"
   ]
  },
  {
   "cell_type": "code",
   "execution_count": 121,
   "metadata": {},
   "outputs": [
    {
     "data": {
      "text/html": [
       "<div>\n",
       "<style scoped>\n",
       "    .dataframe tbody tr th:only-of-type {\n",
       "        vertical-align: middle;\n",
       "    }\n",
       "\n",
       "    .dataframe tbody tr th {\n",
       "        vertical-align: top;\n",
       "    }\n",
       "\n",
       "    .dataframe thead th {\n",
       "        text-align: right;\n",
       "    }\n",
       "</style>\n",
       "<table border=\"1\" class=\"dataframe\">\n",
       "  <thead>\n",
       "    <tr style=\"text-align: right;\">\n",
       "      <th></th>\n",
       "      <th>victml_valeur_min</th>\n",
       "      <th>victml_valeur_max</th>\n",
       "    </tr>\n",
       "  </thead>\n",
       "  <tbody>\n",
       "    <tr>\n",
       "      <th>Num_Acc</th>\n",
       "      <td>201900000001</td>\n",
       "      <td>201900058840</td>\n",
       "    </tr>\n",
       "    <tr>\n",
       "      <th>mois</th>\n",
       "      <td>1</td>\n",
       "      <td>12</td>\n",
       "    </tr>\n",
       "    <tr>\n",
       "      <th>lum</th>\n",
       "      <td>1</td>\n",
       "      <td>5</td>\n",
       "    </tr>\n",
       "    <tr>\n",
       "      <th>dep</th>\n",
       "      <td>Ile de france</td>\n",
       "      <td>Sud Ouest</td>\n",
       "    </tr>\n",
       "    <tr>\n",
       "      <th>agglo</th>\n",
       "      <td>1</td>\n",
       "      <td>2</td>\n",
       "    </tr>\n",
       "    <tr>\n",
       "      <th>meteo</th>\n",
       "      <td>1</td>\n",
       "      <td>Autre</td>\n",
       "    </tr>\n",
       "    <tr>\n",
       "      <th>lat</th>\n",
       "      <td>-12,7156360</td>\n",
       "      <td>63,5680660</td>\n",
       "    </tr>\n",
       "    <tr>\n",
       "      <th>long</th>\n",
       "      <td>-0,0012150</td>\n",
       "      <td>9,5507480</td>\n",
       "    </tr>\n",
       "    <tr>\n",
       "      <th>type_route</th>\n",
       "      <td>1</td>\n",
       "      <td>autre</td>\n",
       "    </tr>\n",
       "    <tr>\n",
       "      <th>type_circu</th>\n",
       "      <td>1</td>\n",
       "      <td>4</td>\n",
       "    </tr>\n",
       "    <tr>\n",
       "      <th>nb_voies</th>\n",
       "      <td>0</td>\n",
       "      <td>12</td>\n",
       "    </tr>\n",
       "    <tr>\n",
       "      <th>declivite</th>\n",
       "      <td>1</td>\n",
       "      <td>4</td>\n",
       "    </tr>\n",
       "    <tr>\n",
       "      <th>rectitude</th>\n",
       "      <td>1</td>\n",
       "      <td>4</td>\n",
       "    </tr>\n",
       "    <tr>\n",
       "      <th>surface</th>\n",
       "      <td>1</td>\n",
       "      <td>autre</td>\n",
       "    </tr>\n",
       "    <tr>\n",
       "      <th>situ_acc</th>\n",
       "      <td>1</td>\n",
       "      <td>autre</td>\n",
       "    </tr>\n",
       "    <tr>\n",
       "      <th>vitesse_autorisee</th>\n",
       "      <td>10</td>\n",
       "      <td>130</td>\n",
       "    </tr>\n",
       "    <tr>\n",
       "      <th>id_vehicule</th>\n",
       "      <td>137 982 129</td>\n",
       "      <td>138 306 525</td>\n",
       "    </tr>\n",
       "    <tr>\n",
       "      <th>type_veh</th>\n",
       "      <td>1</td>\n",
       "      <td>autre</td>\n",
       "    </tr>\n",
       "    <tr>\n",
       "      <th>manoeuvre_veh</th>\n",
       "      <td>1</td>\n",
       "      <td>autre</td>\n",
       "    </tr>\n",
       "    <tr>\n",
       "      <th>num_veh</th>\n",
       "      <td>A01</td>\n",
       "      <td>autre</td>\n",
       "    </tr>\n",
       "    <tr>\n",
       "      <th>place_veh</th>\n",
       "      <td>1</td>\n",
       "      <td>autre</td>\n",
       "    </tr>\n",
       "    <tr>\n",
       "      <th>type_usager</th>\n",
       "      <td>1</td>\n",
       "      <td>3</td>\n",
       "    </tr>\n",
       "    <tr>\n",
       "      <th>sexe</th>\n",
       "      <td>1</td>\n",
       "      <td>2</td>\n",
       "    </tr>\n",
       "    <tr>\n",
       "      <th>an_nais</th>\n",
       "      <td>75 ans et +</td>\n",
       "      <td>Moins de 35 ans</td>\n",
       "    </tr>\n",
       "    <tr>\n",
       "      <th>grav</th>\n",
       "      <td>Blessé Grave ou Tué</td>\n",
       "      <td>Indemne ou Blessé Léger</td>\n",
       "    </tr>\n",
       "  </tbody>\n",
       "</table>\n",
       "</div>"
      ],
      "text/plain": [
       "                     victml_valeur_min        victml_valeur_max\n",
       "Num_Acc                   201900000001             201900058840\n",
       "mois                                 1                       12\n",
       "lum                                  1                        5\n",
       "dep                      Ile de france                Sud Ouest\n",
       "agglo                                1                        2\n",
       "meteo                                1                    Autre\n",
       "lat                        -12,7156360               63,5680660\n",
       "long                        -0,0012150                9,5507480\n",
       "type_route                           1                    autre\n",
       "type_circu                           1                        4\n",
       "nb_voies                             0                       12\n",
       "declivite                            1                        4\n",
       "rectitude                            1                        4\n",
       "surface                              1                    autre\n",
       "situ_acc                             1                    autre\n",
       "vitesse_autorisee                   10                      130\n",
       "id_vehicule                137 982 129              138 306 525\n",
       "type_veh                             1                    autre\n",
       "manoeuvre_veh                        1                    autre\n",
       "num_veh                            A01                    autre\n",
       "place_veh                            1                    autre\n",
       "type_usager                          1                        3\n",
       "sexe                                 1                        2\n",
       "an_nais                    75 ans et +          Moins de 35 ans\n",
       "grav               Blessé Grave ou Tué  Indemne ou Blessé Léger"
      ]
     },
     "execution_count": 121,
     "metadata": {},
     "output_type": "execute_result"
    }
   ],
   "source": [
    "victmlminmax = pd.DataFrame({'victml_valeur_min':victml[victml!='IRLVT'].min(), 'victml_valeur_max':victml[victml!='IRLVT'].max()})\n",
    "victmlminmax"
   ]
  },
  {
   "cell_type": "markdown",
   "metadata": {},
   "source": [
    "**Corrélations**\n",
    "\n",
    "Recherchons les fortes corrélations entre colonnes (qui sont à éviter). \n",
    "Nous les recherchons sur les colonnes de type numérique (matrice de Pearson) et sur les colonnes de type catégoriel (matrice de Cramer).\n"
   ]
  },
  {
   "cell_type": "markdown",
   "metadata": {},
   "source": [
    "*Matrice de Pearson*\n",
    "\n",
    "Nous fixons à 90% le seuil à partir duquel nous considérons que la corrélation entre 2 colonnes numériques est telle qu'il convient de supprimer l'une des 2 colonnes.\n",
    "En l'occurrence, ce seuil n'est atteint pour aucune paire de colonnes, aussi nous n'identifions pas de colonnes redondantes."
   ]
  },
  {
   "cell_type": "code",
   "execution_count": 122,
   "metadata": {},
   "outputs": [
    {
     "data": {
      "text/plain": [
       "<AxesSubplot:>"
      ]
     },
     "execution_count": 122,
     "metadata": {},
     "output_type": "execute_result"
    },
    {
     "data": {
      "image/png": "[encoded data removed]",
      "text/plain": [
       "<Figure size 360x360 with 2 Axes>"
      ]
     },
     "metadata": {
      "needs_background": "light"
     },
     "output_type": "display_data"
    }
   ],
   "source": [
    "plt.figure(figsize=(5, 5))\n",
    "sns.heatmap(victml.corr(), cmap=\"coolwarm\", annot=True)"
   ]
  },
  {
   "cell_type": "markdown",
   "metadata": {},
   "source": [
    "*Matrice de Cramer*\n",
    "\n",
    "Nous fixons à 50% le seuil à partir duquel nous considérons que la corrélation entre 2 colonnes catégorielles justifie qu'on se demande si leurs données ne sont pas redondantes."
   ]
  },
  {
   "cell_type": "code",
   "execution_count": 123,
   "metadata": {},
   "outputs": [],
   "source": [
    "_DEFAULT_REPLACE_VALUE = 0.0\n",
    "\n",
    "def _inf_nan_str(x):\n",
    "    if np.isnan(x):\n",
    "        return 'NaN'\n",
    "    elif abs(x) == np.inf:\n",
    "        return 'inf'\n",
    "    else:\n",
    "        return ''\n",
    "def replace_nan_with_value(x, y, value):\n",
    "    x = np.array([v if v == v and v is not None else value for v in x])  # NaN != NaN\n",
    "    y = np.array([v if v == v and v is not None else value for v in y])\n",
    "    return x, y\n",
    "def cramers_v(x,\n",
    "              y,\n",
    "              bias_correction=False,\n",
    "              nan_strategy='replace',\n",
    "              nan_replace_value=_DEFAULT_REPLACE_VALUE):\n",
    "    if nan_strategy == 'replace':\n",
    "        x, y = replace_nan_with_value(x, y, nan_replace_value)\n",
    "    elif nan_strategy == 'drop':\n",
    "        x, y = remove_incomplete_samples(x, y)\n",
    "    confusion_matrix = pd.crosstab(x, y)\n",
    "    chi2 = ss.chi2_contingency(confusion_matrix)[0]\n",
    "    n = confusion_matrix.sum().sum()\n",
    "    phi2 = chi2 / n\n",
    "    r, k = confusion_matrix.shape\n",
    "    if bias_correction:\n",
    "        phi2corr = max(0, phi2 - ((k - 1) * (r - 1)) / (n - 1))\n",
    "        rcorr = r - ((r - 1) ** 2) / (n - 1)\n",
    "        kcorr = k - ((k - 1) ** 2) / (n - 1)\n",
    "        if min((kcorr - 1), (rcorr - 1)) == 0:\n",
    "            warnings.warn(\n",
    "                \"Unable to calculate Cramer's V using bias correction. Consider using bias_correction=False\",\n",
    "                RuntimeWarning)\n",
    "            return np.nan\n",
    "        else:\n",
    "            return np.sqrt(phi2corr / min((kcorr - 1), (rcorr - 1)))\n",
    "    else:\n",
    "        return np.sqrt(phi2 / min(k - 1, r - 1))"
   ]
  },
  {
   "cell_type": "markdown",
   "metadata": {},
   "source": [
    "chi2 = pd.DataFrame(np.zeros((len(victml.columns), len(victml.columns))), columns=victml.columns, index=victml.columns)\n",
    "for i, c1 in enumerate(victml.columns):\n",
    "    for j, c2 in enumerate(victml.columns):\n",
    "        chi2.iloc[i, j] = cramers_v(victml[c1], victml[c2], bias_correction=False)\n",
    "\n",
    "plt.figure(figsize=(10, 10))\n",
    "sns.heatmap(chi2>0.5, annot=False, cmap='coolwarm')"
   ]
  },
  {
   "cell_type": "code",
   "execution_count": 125,
   "metadata": {},
   "outputs": [
    {
     "data": {
      "text/plain": [
       "<AxesSubplot:xlabel='type_route', ylabel='agglo'>"
      ]
     },
     "execution_count": 125,
     "metadata": {},
     "output_type": "execute_result"
    },
    {
     "data": {
      "image/png": "[encoded data removed]",
      "text/plain": [
       "<Figure size 432x288 with 2 Axes>"
      ]
     },
     "metadata": {
      "needs_background": "light"
     },
     "output_type": "display_data"
    }
   ],
   "source": [
    "# Une corrélation forte est constatée entre les variables 'type de route' et 'en agglo/hors agglo', sur plusieurs valeurs.\n",
    "# Mais c'est une corrélation entre des valeurs particulières, plutôt qu'entre les variables elles-mêmes. \n",
    "# On conserve les variables pour ne pas perdre en information.\n",
    "\n",
    "ct_counts = victml.groupby(['type_route', 'agglo']).size()\n",
    "ct_counts = ct_counts.reset_index(name = 'count')\n",
    "ct_counts = ct_counts.pivot(index = 'agglo', columns = 'type_route', values = 'count')\n",
    "sns.heatmap(ct_counts, cmap=\"coolwarm\")"
   ]
  },
  {
   "cell_type": "code",
   "execution_count": 126,
   "metadata": {},
   "outputs": [
    {
     "data": {
      "text/plain": [
       "<AxesSubplot:xlabel='surface', ylabel='meteo'>"
      ]
     },
     "execution_count": 126,
     "metadata": {},
     "output_type": "execute_result"
    },
    {
     "data": {
      "image/png": "[encoded data removed]",
      "text/plain": [
       "<Figure size 432x288 with 2 Axes>"
      ]
     },
     "metadata": {
      "needs_background": "light"
     },
     "output_type": "display_data"
    }
   ],
   "source": [
    "# Une corrélation très forte est constatée entre les variables \"surface de la route\" et \"météo\".\n",
    "# Mais c'est une corrélation entre deux valeurs particulières, plutôt qu'entre les variables elles-mêmes. Nous conservons les variables.\n",
    "\n",
    "ct_counts = victml.groupby(['surface', 'meteo']).size()\n",
    "ct_counts = ct_counts.reset_index(name = 'count')\n",
    "ct_counts = ct_counts.pivot(index = 'meteo', columns = 'surface', values = 'count')\n",
    "sns.heatmap(ct_counts, cmap=\"coolwarm\")"
   ]
  },
  {
   "cell_type": "code",
   "execution_count": 127,
   "metadata": {},
   "outputs": [
    {
     "data": {
      "text/plain": [
       "<AxesSubplot:xlabel='type_usager', ylabel='loc_pieton'>"
      ]
     },
     "execution_count": 127,
     "metadata": {},
     "output_type": "execute_result"
    },
    {
     "data": {
      "image/png": "[encoded data removed]",
      "text/plain": [
       "<Figure size 432x288 with 2 Axes>"
      ]
     },
     "metadata": {
      "needs_background": "light"
     },
     "output_type": "display_data"
    }
   ],
   "source": [
    "# Une corrélation forte est constatée entre les variables 'Localisation du piéton'  et 'Type d'usager'.\n",
    "# Mais c'est surtout une corrélation entre deux valeurs plutôt qu'entre plusieurs valeurs. Nous conservons les variables. \n",
    "\n",
    "ct_counts = victml.groupby(['type_usager', 'loc_pieton']).size()\n",
    "ct_counts = ct_counts.reset_index(name = 'count')\n",
    "ct_counts = ct_counts.pivot(index = 'loc_pieton', columns = 'type_usager', values = 'count')\n",
    "sns.heatmap(ct_counts, cmap=\"coolwarm\")"
   ]
  },
  {
   "cell_type": "code",
   "execution_count": 128,
   "metadata": {},
   "outputs": [
    {
     "data": {
      "text/plain": [
       "<AxesSubplot:xlabel='collision', ylabel='obst_mobile'>"
      ]
     },
     "execution_count": 128,
     "metadata": {},
     "output_type": "execute_result"
    },
    {
     "data": {
      "image/png": "[encoded data removed]",
      "text/plain": [
       "<Figure size 432x288 with 2 Axes>"
      ]
     },
     "metadata": {
      "needs_background": "light"
     },
     "output_type": "display_data"
    }
   ],
   "source": [
    "# Une corrélation forte est constatée entre les variables 'obstacle mobile heurté' (1: piéton, 2:véhicule)  \n",
    "# et 'collision' (3: frontale entre véhicules, 6: autre type de collision qu'avec un véhicule) \n",
    "# Les informations ne sont pas similaires, on conserve.\n",
    "\n",
    "ct_counts = victml.groupby(['obst_mobile', 'collision']).size()\n",
    "ct_counts = ct_counts.reset_index(name = 'count')\n",
    "ct_counts = ct_counts.pivot(index = 'obst_mobile', columns = 'collision', values = 'count')\n",
    "sns.heatmap(ct_counts, cmap=\"coolwarm\")"
   ]
  },
  {
   "cell_type": "code",
   "execution_count": 129,
   "metadata": {},
   "outputs": [
    {
     "data": {
      "text/plain": [
       "<AxesSubplot:xlabel='type_usager', ylabel='pieton_seul'>"
      ]
     },
     "execution_count": 129,
     "metadata": {},
     "output_type": "execute_result"
    },
    {
     "data": {
      "image/png": "[encoded data removed]",
      "text/plain": [
       "<Figure size 432x288 with 2 Axes>"
      ]
     },
     "metadata": {
      "needs_background": "light"
     },
     "output_type": "display_data"
    }
   ],
   "source": [
    "# Une corrélation forte est constatée entre les variables \"Piéton seul\" et \"Type d'usager\". \n",
    "# Mais c'est surtout une corrélation entre deux valeurs plutôt qu'entre plusieurs valeurs. Nous conservons les variables.\n",
    "\n",
    "ct_counts = victml.groupby(['type_usager', 'pieton_seul']).size()\n",
    "ct_counts = ct_counts.reset_index(name = 'count')\n",
    "ct_counts = ct_counts.pivot(index = 'pieton_seul', columns = 'type_usager', values = 'count')\n",
    "sns.heatmap(ct_counts, cmap=\"coolwarm\")"
   ]
  },
  {
   "cell_type": "code",
   "execution_count": 130,
   "metadata": {},
   "outputs": [
    {
     "data": {
      "text/plain": [
       "<AxesSubplot:xlabel='loc_pieton', ylabel='pieton_seul'>"
      ]
     },
     "execution_count": 130,
     "metadata": {},
     "output_type": "execute_result"
    },
    {
     "data": {
      "image/png": "[encoded data removed]",
      "text/plain": [
       "<Figure size 432x288 with 2 Axes>"
      ]
     },
     "metadata": {
      "needs_background": "light"
     },
     "output_type": "display_data"
    }
   ],
   "source": [
    "# Une corrélation forte est constatée entre les variables \"piéton seul\" et \"localisation du piéton\". \n",
    "# Mais c'est surtout une corrélation entre deux valeurs plutôt qu'entre plusieurs valeurs. Nous conservons les variables.\n",
    "\n",
    "ct_counts = victml.groupby(['loc_pieton', 'pieton_seul']).size()\n",
    "ct_counts = ct_counts.reset_index(name = 'count')\n",
    "ct_counts = ct_counts.pivot(index = 'pieton_seul', columns = 'loc_pieton', values = 'count')\n",
    "sns.heatmap(ct_counts, cmap=\"coolwarm\")"
   ]
  },
  {
   "cell_type": "code",
   "execution_count": 131,
   "metadata": {},
   "outputs": [
    {
     "data": {
      "text/plain": [
       "<AxesSubplot:xlabel='place_veh', ylabel='pieton_seul'>"
      ]
     },
     "execution_count": 131,
     "metadata": {},
     "output_type": "execute_result"
    },
    {
     "data": {
      "image/png": "[encoded data removed]",
      "text/plain": [
       "<Figure size 432x288 with 2 Axes>"
      ]
     },
     "metadata": {
      "needs_background": "light"
     },
     "output_type": "display_data"
    }
   ],
   "source": [
    "# Une corrélation forte est constatée entre les variables \"piéton seul\" et \"place dans le véhicule\". \n",
    "# Mais c'est surtout une corrélation entre deux valeurs plutôt qu'entre plusieurs valeurs. Nous conservons les variables.\n",
    "\n",
    "ct_counts = victml.groupby(['pieton_seul','place_veh']).size()\n",
    "ct_counts = ct_counts.reset_index(name = 'count')\n",
    "ct_counts = ct_counts.pivot(index = 'pieton_seul', columns = 'place_veh', values = 'count')\n",
    "sns.heatmap(ct_counts, cmap=\"coolwarm\")"
   ]
  },
  {
   "cell_type": "markdown",
   "metadata": {},
   "source": [
    "**Fléau de la dimension**\n",
    "\n",
    "Notre jeu de données a désormais la forme suivante."
   ]
  },
  {
   "cell_type": "code",
   "execution_count": 132,
   "metadata": {},
   "outputs": [
    {
     "data": {
      "text/plain": [
       "(130901, 35)"
      ]
     },
     "execution_count": 132,
     "metadata": {},
     "output_type": "execute_result"
    }
   ],
   "source": [
    "victml.shape"
   ]
  },
  {
   "cell_type": "markdown",
   "metadata": {},
   "source": [
    "Conscient du fléau de la dimension, on vérifie que le nombre de lignes est très largement proportionnel au nombre de features."
   ]
  },
  {
   "cell_type": "code",
   "execution_count": 133,
   "metadata": {},
   "outputs": [
    {
     "data": {
      "text/plain": [
       "3740.0285714285715"
      ]
     },
     "execution_count": 133,
     "metadata": {},
     "output_type": "execute_result"
    }
   ],
   "source": [
    "victml.shape[0]/victml.shape[1]"
   ]
  },
  {
   "cell_type": "code",
   "execution_count": 134,
   "metadata": {},
   "outputs": [],
   "source": [
    "victml.to_csv('../Final-Project/data/cleanvict_2CLASSES.csv', index=False)"
   ]
  },
  {
   "cell_type": "markdown",
   "metadata": {},
   "source": [
    "**Génération d'un PANDAS PROFILE REPORT** "
   ]
  },
  {
   "cell_type": "code",
   "execution_count": null,
   "metadata": {},
   "outputs": [],
   "source": [
    "ppr = ProfileReport(victml.sample(130901), title=\"Pandas Profiling Report\")\n",
    "ppr.to_file(\"ppr_vf.html\")"
   ]
  },
  {
   "cell_type": "markdown",
   "metadata": {},
   "source": [
    "**PREPARATION DU FICHIER AU MACHINE LEARNING** "
   ]
  },
  {
   "cell_type": "markdown",
   "metadata": {},
   "source": [
    "On supprime les variables \"latitude\", \"longitude\", et identifiants uniques accident/véhicule qui ne nous semblent pas pertinentes pour le machine learning."
   ]
  },
  {
   "cell_type": "code",
   "execution_count": 136,
   "metadata": {},
   "outputs": [],
   "source": [
    "victml.drop(['lat', 'long','Num_Acc','id_vehicule'], axis=1, inplace=True, errors = 'ignore')"
   ]
  },
  {
   "cell_type": "code",
   "execution_count": 137,
   "metadata": {},
   "outputs": [
    {
     "data": {
      "text/plain": [
       "Index(['mois', 'lum', 'dep', 'agglo', 'intersection', 'meteo', 'collision',\n",
       "       'type_route', 'type_circu', 'nb_voies', 'vosp', 'declivite',\n",
       "       'rectitude', 'surface', 'infrastructure', 'situ_acc',\n",
       "       'vitesse_autorisee', 'sens_circu', 'type_veh', 'obst_fixe',\n",
       "       'obst_mobile', 'choc', 'manoeuvre_veh', 'num_veh', 'place_veh',\n",
       "       'type_usager', 'sexe', 'an_nais', 'loc_pieton', 'pieton_seul', 'grav'],\n",
       "      dtype='object')"
      ]
     },
     "execution_count": 137,
     "metadata": {},
     "output_type": "execute_result"
    }
   ],
   "source": [
    "victml.columns"
   ]
  },
  {
   "cell_type": "markdown",
   "metadata": {},
   "source": [
    "**One-hot-encoding**\n",
    "\n",
    "On procède à l'encodage \"one-hot encoding\" des variables catégorielles en variables factices en vue du traitement de machine learning."
   ]
  },
  {
   "cell_type": "code",
   "execution_count": 138,
   "metadata": {},
   "outputs": [
    {
     "data": {
      "text/plain": [
       "Index(['mois', 'lum', 'dep', 'agglo', 'intersection', 'meteo', 'collision',\n",
       "       'type_route', 'type_circu', 'vosp', 'declivite', 'rectitude', 'surface',\n",
       "       'infrastructure', 'situ_acc', 'sens_circu', 'type_veh', 'obst_fixe',\n",
       "       'obst_mobile', 'choc', 'manoeuvre_veh', 'num_veh', 'place_veh',\n",
       "       'type_usager', 'sexe', 'an_nais', 'loc_pieton', 'pieton_seul'],\n",
       "      dtype='object')"
      ]
     },
     "execution_count": 138,
     "metadata": {},
     "output_type": "execute_result"
    }
   ],
   "source": [
    "# Les variables à encoder n'incluent pas la variable-cible ni les variables numériques.\n",
    "features = victml.columns.drop(['vitesse_autorisee','nb_voies','grav'])\n",
    "features"
   ]
  },
  {
   "cell_type": "code",
   "execution_count": 139,
   "metadata": {},
   "outputs": [],
   "source": [
    "victml_dummies_2CLASSES = pd.get_dummies(victml, columns = features, drop_first=True)"
   ]
  },
  {
   "cell_type": "code",
   "execution_count": 140,
   "metadata": {},
   "outputs": [
    {
     "data": {
      "text/plain": [
       "(130901, 144)"
      ]
     },
     "execution_count": 140,
     "metadata": {},
     "output_type": "execute_result"
    }
   ],
   "source": [
    "victml_dummies_2CLASSES.shape"
   ]
  },
  {
   "cell_type": "markdown",
   "metadata": {},
   "source": [
    "Sauvegardons le jeu de données préparé pour le machine learning."
   ]
  },
  {
   "cell_type": "code",
   "execution_count": 141,
   "metadata": {},
   "outputs": [],
   "source": [
    "victml_dummies_2CLASSES.to_csv('../Final-Project/data/victml_clean_dummies_2CLASSES.csv', index=False)"
   ]
  },
  {
   "cell_type": "code",
   "execution_count": 142,
   "metadata": {},
   "outputs": [
    {
     "name": "stdout",
     "output_type": "stream",
     "text": [
      "Over!\n"
     ]
    }
   ],
   "source": [
    "print('Over!')"
   ]
  }
 ],
 "metadata": {
  "kernelspec": {
   "display_name": "Python 3",
   "language": "python",
   "name": "python3"
  },
  "language_info": {
   "codemirror_mode": {
    "name": "ipython",
    "version": 3
   },
   "file_extension": ".py",
   "mimetype": "text/x-python",
   "name": "python",
   "nbconvert_exporter": "python",
   "pygments_lexer": "ipython3",
   "version": "3.8.5"
  }
 },
 "nbformat": 4,
 "nbformat_minor": 4
}
